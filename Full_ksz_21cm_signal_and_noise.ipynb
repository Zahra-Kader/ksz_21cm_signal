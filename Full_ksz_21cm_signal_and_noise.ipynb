{
 "cells": [
  {
   "cell_type": "code",
   "execution_count": 1,
   "metadata": {},
   "outputs": [],
   "source": [
    "import scipy as sp\n",
    "import numpy as np\n",
    "import matplotlib.pyplot as plt\n",
    "import useful_functions as uf\n",
    "import density as den\n",
    "import constants as cc\n",
    "from scipy.interpolate import interp1d\n",
    "import sys\n",
    "sys.path.insert(0,'/home/zahra/hirax_tools/hirax_tools')\n",
    "from array_config import HIRAXArrayConfig\n",
    "from scipy.integrate import trapz\n",
    "import pylab\n",
    "from matplotlib.colors import LogNorm"
   ]
  },
  {
   "cell_type": "code",
   "execution_count": 2,
   "metadata": {},
   "outputs": [],
   "source": [
    "cosmo=uf.cosmo\n",
    "\n",
    "Mps_interpf=uf.Mps_interpf\n",
    "\n",
    "n_points=10\n",
    "n=n_points\n",
    "z_r=6\n",
    "\n",
    "x_e=1.\n",
    "\n",
    "G=cc.G_const_Mpc_Msun_s/cc.M_sun_g\n",
    "\n",
    "#rho_c=3*H0**2/(8.*np.pi*G)\n",
    "\n",
    "rho_c=den.cosmo_densities(**cosmo)[0]*cc.M_sun_g #in units of g/Mpc^3\n",
    "\n",
    "sigma_T=cc.sigma_T_Mpc\n",
    "\n",
    "tau_r=0.055\n",
    "\n",
    "T_rad=2.725 #In Kelvin\n",
    "\n",
    "chi_r = uf.chi(z_r)\n",
    "\n",
    "chi_m = uf.chi(1100)\n",
    "\n",
    "chi_min=0.0001\n",
    "\n",
    "k_min=1e-4\n",
    "\n",
    "k_max=10\n",
    "\n",
    "chi_array=np.linspace(chi_min,chi_m,n_points)\n",
    "\n",
    "#tau_r=0.046*omega_b_0*h*x_e[np.sqrt(omega_M_0(1+z_r)**3+(1-omega_M_0))-1]\n",
    "\n",
    "#get matter power spec data\n",
    "\n",
    "mu_e=1.14\n",
    "\n",
    "m_p=cc.m_p_g #in grams\n",
    "\n",
    "rho_g0=cosmo['omega_b_0']*rho_c\n",
    "\n",
    "#plt.loglog(uf.kabs,Mps_interpf(uf.kabs))\n",
    "\n",
    "#plt.show()\n",
    "\n",
    "\n",
    "zed=uf.zed\n",
    "\n",
    "H=uf.H\n",
    "chi=uf.chi\n",
    "#chi_Z=chi(Z)\n",
    "tau_inst=uf.tau_inst\n",
    "f=uf.f\n",
    "D=uf.D_1\n",
    "r=uf.r\n",
    "z=1.26\n",
    "delta_z=.0015"
   ]
  },
  {
   "cell_type": "code",
   "execution_count": 3,
   "metadata": {},
   "outputs": [],
   "source": [
    "ell=np.geomspace(2.,1.e4,n_points)\n",
    "kperp_arr=ell/chi(z)\n",
    "kpar_arr=np.geomspace(1.e-4,.15,n_points)\n",
    "y=kpar_arr*r(z)"
   ]
  },
  {
   "cell_type": "code",
   "execution_count": 4,
   "metadata": {},
   "outputs": [],
   "source": [
    "\n",
    "#kpar_min=uf.kpar_min(z,delta_z)\n",
    "\n",
    "def ionized_elec(Yp,N_He):\n",
    "\n",
    "    x=(1-Yp*(1-N_He/4))/(1-Yp/2)\n",
    "\n",
    "    return x\n",
    "\n",
    "\n",
    "\n",
    "def density(z,rho_g0):\n",
    "\n",
    "    rho_g=rho_g0*(1+z)**3\n",
    "\n",
    "    return rho_g\n",
    "\n",
    "\n",
    "\n",
    "def ionized_electron_number(z):\n",
    "\n",
    "    n=ionized_elec(0.24,1)*density(z,rho_g0)/(mu_e*m_p)\n",
    "\n",
    "    return n\n",
    "\n",
    "\n",
    "\n",
    "def tau(z):\n",
    "\n",
    "    tau_der=sigma_T*cc.c_light_Mpc_s*ionized_electron_number(z)/((1+z)*uf.H(z))\n",
    "\n",
    "    tau=sp.integrate.trapz(tau_der,z)\n",
    "\n",
    "    return tau\n",
    "\n",
    "x=ionized_elec(0.24,0)\n"
   ]
  },
  {
   "cell_type": "code",
   "execution_count": 5,
   "metadata": {},
   "outputs": [],
   "source": [
    "def C_l_mu_integral(ell,z_min):\n",
    "    Kp=np.geomspace(1.e-10,10.,n_points)\n",
    "    Mu=np.linspace(-0.9999,0.9999,n_points)\n",
    "    Z=np.geomspace(z_min,z_r,n_points)\n",
    "    mu,kp,z=np.meshgrid(Mu,Kp,Z)\n",
    "    H_z=uf.H(z)\n",
    "    chi_z=uf.chi(z)\n",
    "    #chi_Z=chi(Z)\n",
    "    tau_z=uf.tau_inst(z)\n",
    "    f_z=uf.f(z)\n",
    "    D_z=uf.D_1(z)\n",
    "    const=1e12*T_rad**2*x**2/cc.c_light_Mpc_s*(sigma_T*rho_g0/(mu_e*m_p))**2/8/np.pi**2\n",
    "    #kp_norm=np.linalg.norm(Kp)\n",
    "    #k_norm=np.linalg.norm(ell/chi_Z)\n",
    "    theta_kp_arr=np.array([])\n",
    "    theta_K_arr=np.array([])\n",
    "    I_arr=np.array([])\n",
    "    C_l=np.array([])\n",
    "    for i in ell:\n",
    "        k=i/chi_z\n",
    "        K=np.sqrt(k**2+kp**2-2*k*kp*mu)\n",
    "        theta_kp=np.sqrt(1-mu**2)\n",
    "        theta_K=-np.sqrt(1-mu**2)*kp/K\n",
    "        theta_kp_arr=np.append(theta_kp_arr,theta_kp)\n",
    "        theta_K_arr=np.append(theta_K_arr,theta_K)\n",
    "        I=theta_kp**2/kp**2+theta_K*theta_kp/K/kp\n",
    "        I_arr=np.append(I_arr,I)\n",
    "        #I=k*(k-2*kp*mu)*(1-mu**2)/K**2\n",
    "        integral=[const*sp.integrate.trapz(sp.integrate.trapz(sp.integrate.trapz(kp**2*I*Mps_interpf(kp)*Mps_interpf(K)*(1+z)**2*np.exp(-2*tau_z)\n",
    "        *f_z**2*D_z**4/chi_z**2*H_z,Mu,axis=0),Kp,axis=0),Z,axis=0)]\n",
    "        C_l=np.append(C_l,integral)\n",
    "    return C_l, theta_kp_arr, theta_K_arr, I_arr\n"
   ]
  },
  {
   "cell_type": "code",
   "execution_count": 6,
   "metadata": {},
   "outputs": [],
   "source": [
    "redshift_min=z-delta_z\n",
    "redshift_max=z+delta_z"
   ]
  },
  {
   "cell_type": "code",
   "execution_count": 7,
   "metadata": {},
   "outputs": [],
   "source": [
    "#np.save('C_l_ksz_z_1pt26_deltaz_pt00015_lower_100pts_2d',(ell,C_l_mu_integral(ell,redshift_min)[0]))\n",
    "#np.save('C_l_ksz_z_1pt26_deltaz_pt00015_upper_100pts_2d',(ell,C_l_mu_integral(ell,redshift_max)[0]))\n",
    "#print (np.load('C_l_ksz_z_1pt26_deltaz_pt00015_lower_100pts_2d.npy').shape)\n",
    "#print (np.load('C_l_ksz_z_1pt26_deltaz_pt00015_upper_100pts_2d.npy')[1:,])\n",
    "#print (np.load('C_l_ksz_z_1pt26_deltaz_pt0015_upper_100pts_2d.npy')[1:,])"
   ]
  },
  {
   "cell_type": "code",
   "execution_count": 8,
   "metadata": {},
   "outputs": [],
   "source": [
    "OV_1pt26_lower=np.load('C_l_ksz_z_1pt26_deltaz_pt0015_lower_100pts_2d.npy')\n",
    "\n",
    "OV_1pt26_upper=np.load('C_l_ksz_z_1pt26_deltaz_pt0015_upper_100pts_2d.npy')\n",
    "\n",
    "ell_loaded=OV_1pt26_lower[0,:]\n",
    "OV_1pt26_lower_loaded=OV_1pt26_lower[1,:]\n",
    "OV_1pt26_upper_loaded=OV_1pt26_upper[1,:]\n",
    "\n",
    "\n",
    "OV_1pt26_lower_interp=interp1d(ell_loaded,OV_1pt26_lower_loaded)\n",
    "OV_1pt26_upper_interp=interp1d(ell_loaded,OV_1pt26_upper_loaded)\n",
    "\n",
    "OV_interp=interp1d(ell_loaded,OV_1pt26_lower_interp(ell_loaded)-OV_1pt26_upper_interp(ell_loaded))\n"
   ]
  },
  {
   "cell_type": "code",
   "execution_count": 9,
   "metadata": {},
   "outputs": [
    {
     "name": "stdout",
     "output_type": "stream",
     "text": [
      "[-4.46738892e-10 -5.97823495e-10 -7.98452546e-10 -1.06316208e-09\n",
      " -1.40926923e-09 -1.85607497e-09 -2.42128000e-09 -3.11752563e-09\n",
      " -3.93586774e-09 -4.83885858e-09 -5.73490871e-09 -6.45625685e-09\n",
      " -6.78041804e-09 -6.45118866e-09 -5.36327011e-09 -3.72261903e-09\n",
      " -2.07785466e-09 -7.92534259e-10  3.03773584e-10  8.80775254e-10\n",
      "  8.50973145e-10  7.15494635e-10  5.15532742e-10  3.33313754e-10\n",
      "  2.00647100e-10  1.12988414e-10  6.05546911e-11  3.13044554e-11\n",
      "  1.58567299e-11  7.79598883e-12]\n"
     ]
    }
   ],
   "source": [
    "OV_1pt26_upper_interp(ell),OV_1pt26_lower_interp(ell)\n",
    "print (OV_interp(ell))"
   ]
  },
  {
   "cell_type": "code",
   "execution_count": 10,
   "metadata": {},
   "outputs": [
    {
     "data": {
      "text/plain": [
       "\"\\nplt.plot(ell,ell*(ell+1)*(C_l_mu_integral(ell,redshift_min)[0])/2/np.pi)\\nplt.plot(ell,ell*(ell+1)*(C_l_mu_integral(ell,redshift_max)[0])/2/np.pi)\\n\\n#plt.plot(ell,ell*(ell+1)*(C_l_mu_integral(ell,1.e-4)[0])/2/np.pi)\\nplt.ylabel(r'$\\rm l(l+1)Cl^{OV}/2\\\\pi[\\\\mu K^2]$')\\nplt.xlabel('l')\\n#plt.show()\\n\""
      ]
     },
     "execution_count": 10,
     "metadata": {},
     "output_type": "execute_result"
    }
   ],
   "source": [
    "'''\n",
    "plt.plot(ell,ell*(ell+1)*(C_l_mu_integral(ell,redshift_min)[0])/2/np.pi)\n",
    "plt.plot(ell,ell*(ell+1)*(C_l_mu_integral(ell,redshift_max)[0])/2/np.pi)\n",
    "\n",
    "#plt.plot(ell,ell*(ell+1)*(C_l_mu_integral(ell,1.e-4)[0])/2/np.pi)\n",
    "plt.ylabel(r'$\\rm l(l+1)Cl^{OV}/2\\pi[\\mu K^2]$')\n",
    "plt.xlabel('l')\n",
    "#plt.show()\n",
    "'''"
   ]
  },
  {
   "cell_type": "code",
   "execution_count": 11,
   "metadata": {},
   "outputs": [],
   "source": [
    "#plt.plot(ell,ell*(ell+1)*(C_l_mu_integral(ell,redshift_min)[0])/2/np.pi)\n",
    "#plt.plot(ell,ell*(ell+1)*(OV_1pt26_lower_interp(ell))/2/np.pi)\n",
    "#plt.show()"
   ]
  },
  {
   "cell_type": "code",
   "execution_count": 12,
   "metadata": {},
   "outputs": [],
   "source": [
    "#plt.loglog(ell,ell*(ell+1)*crosscorr_integral_y_all_ell(ell,1.26,.0015)/2/np.pi,'r')\n",
    "#plt.loglog(ell,ell*(ell+1)*crosscorr_squeezed_integral_y_all_ell(ell,1.26,.0015)/2/np.pi,'b')\n"
   ]
  },
  {
   "cell_type": "code",
   "execution_count": 13,
   "metadata": {},
   "outputs": [],
   "source": [
    "def crosscorr_squeezedlim(ell,z_i,y, delta_z): #with the assumption that zi=z so no cos factor, and we have dz=redshift bin width=2*delta_z defined above\n",
    "    n=n_points #number of points over which to integrate\n",
    "    #y=np.geomspace(1.,3000.,n)\n",
    "    U=np.linspace(-.9999,.9999,n)\n",
    "    Kp=np.geomspace(1.e-6,.1,n)\n",
    "    Z_min=z_i-delta_z\n",
    "    Z_max=z_i+delta_z\n",
    "    z=np.geomspace(Z_min,Z_max,n)\n",
    "    u,kp=np.meshgrid(U,Kp)\n",
    "    T_mean_zi=uf.T_mean(z_i)\n",
    "    chi_zi=chi(z_i)\n",
    "    chi_z=chi(z)\n",
    "    f_zi=uf.f(z_i)\n",
    "    f_z=uf.f(z)\n",
    "    D_zi=uf.D_1(z_i)\n",
    "    r_zi=uf.r(z_i)\n",
    "    D_z=uf.D_1(z)\n",
    "    H_zi=uf.H(z_i)\n",
    "    tau_z=uf.tau_inst(z)\n",
    "    tau_zi=uf.tau_inst(z_i)\n",
    "    kpar=y/uf.r(z_i)\n",
    "    const=1.e6/(4.*np.pi**2)*T_rad*T_mean_zi**2/cc.c_light_Mpc_s*f_zi*D_zi**2*H_zi/(chi_zi**2*r_zi)/(1.+z_i)*x*(sigma_T*rho_g0/(mu_e*m_p))\n",
    "    #Cl=np.array([])\n",
    "    kp_perp=kp*np.sqrt(1-u**2)\n",
    "    kp_par=kp*u\n",
    "    k_perp=ell/chi_zi\n",
    "    k=np.sqrt(k_perp**2+kpar**2)\n",
    "    rsd=1.+f_zi*kpar**2/k**2\n",
    "    zeta=(kpar/k*u+k_perp/k*np.sqrt(1-u**2))\n",
    "    k_dot_kp=k_perp*kp_perp+kpar*kp_par*zeta\n",
    "    #K=np.sqrt(k**2+kp**2-2*k_dot_kp)\n",
    "    K=k\n",
    "    #theta_K=kpar/K/k**2*(k**2-k_dot_kp)-kp*k_perp*np.sqrt(1-zeta**2)/k/K\n",
    "    theta_K=kpar/k\n",
    "    theta_kp=u\n",
    "    I=theta_kp*(theta_kp/kp**2+theta_K/K/kp)\n",
    "    z_integral=sp.integrate.trapz(f_z*D_z**2*(1+z)*np.exp(-tau_z),z)\n",
    "    integrand_1=z_integral*Mps_interpf(kp)*Mps_interpf(K)*rsd**2*theta_kp**2\n",
    "  #+theta_K/K/kp)#-mu*kp*np.gradient(Mps_interpf(k),axis=0))\n",
    "    integrand_2=z_integral*Mps_interpf(kp)*Mps_interpf(k)*rsd**2*kp**2*theta_kp*theta_K/kp/K\n",
    "\n",
    "    integral_sing_1=const*sp.integrate.trapz(sp.integrate.trapz(integrand_1,U,axis=0),Kp,axis=0)\n",
    "    integral_sing_2=const*sp.integrate.trapz(sp.integrate.trapz(integrand_2,U,axis=0),Kp,axis=0)\n",
    "    #Cl=np.append(Cl,integral)\n",
    "    return integral_sing_1+integral_sing_2\n"
   ]
  },
  {
   "cell_type": "code",
   "execution_count": 14,
   "metadata": {},
   "outputs": [],
   "source": [
    "def crosscorr_squeezedlim_z_int(ell,z_i,y, delta_z): #with the assumption that zi=z so no cos factor, and we have dz=redshift bin width=2*delta_z defined above\n",
    "    n=n_points #number of points over which to integrate\n",
    "    #y=np.geomspace(1.,3000.,n)\n",
    "    U=np.linspace(-.9999,.9999,n)\n",
    "    Kp=np.geomspace(1.e-6,.1,n)\n",
    "    Z_min=z_i-delta_z\n",
    "    Z_max=z_i+delta_z\n",
    "    z2=np.geomspace(Z_min,Z_max,n)\n",
    "    Z1=z2\n",
    "    u,kp,z1=np.meshgrid(U,Kp,Z1)\n",
    "    T_mean_z1=uf.T_mean(z1)\n",
    "    chi_z1=chi(z1)\n",
    "    chi_z=chi(z)\n",
    "    f_z1=uf.f(z1)\n",
    "    f_z2=uf.f(z2)\n",
    "    D_z1=uf.D_1(z1)\n",
    "    r_z1=uf.r(z1)\n",
    "    D_z2=uf.D_1(z2)\n",
    "    H_z1=uf.H(z1)\n",
    "    tau_z2=uf.tau_inst(z2)\n",
    "    tau_z1=uf.tau_inst(z1)\n",
    "    kpar=y/uf.r(z1)\n",
    "    const=1.e6/(4.*np.pi**2)*T_rad*x*(sigma_T*rho_g0/(mu_e*m_p))/cc.c_light_Mpc_s\n",
    "    #Cl=np.array([])\n",
    "    kp_perp=kp*np.sqrt(1-u**2)\n",
    "    kp_par=kp*u\n",
    "    k_perp=ell/chi_z1\n",
    "    k=np.sqrt(k_perp**2+kpar**2)\n",
    "    rsd=1.+f_z1*kpar**2/k**2\n",
    "    zeta=(kpar/k*u+k_perp/k*np.sqrt(1-u**2))\n",
    "    k_dot_kp=k_perp*kp_perp+kpar*kp_par*zeta\n",
    "    #K=np.sqrt(k**2+kp**2-2*k_dot_kp)\n",
    "    K=k\n",
    "    #theta_K=kpar/K/k**2*(k**2-k_dot_kp)-kp*k_perp*np.sqrt(1-zeta**2)/k/K\n",
    "    theta_K=kpar/k\n",
    "    theta_kp=u\n",
    "    redshift_z1=T_mean_z1**2*f_z1*D_z1**2*H_z1/(chi_z1**2*r_z1)/(1.+z1)\n",
    "    I=theta_kp*(theta_kp/kp**2+theta_K/K/kp)\n",
    "    z_integral=sp.integrate.trapz(f_z2*D_z2**2*(1+z2)*np.exp(-tau_z2),z2)\n",
    "    integrand_1=z_integral*Mps_interpf(kp)*Mps_interpf(k)*rsd**2*theta_kp**2*redshift_z1\n",
    "  #+theta_K/K/kp)#-mu*kp*np.gradient(Mps_interpf(k),axis=0))\n",
    "    integrand_2=z_integral*Mps_interpf(kp)*Mps_interpf(k)*rsd**2*kp**2*theta_kp*theta_K/kp/K*redshift_z1\n",
    "\n",
    "    integral_sing_1=const*trapz(trapz(trapz(integrand_1,U,axis=0),Kp,axis=0),Z1,axis=0)\n",
    "    integral_sing_2=const*trapz(trapz(trapz(integrand_2,U,axis=0),Kp,axis=0),Z1,axis=0)\n",
    "    #Cl=np.append(Cl,integral)\n",
    "    return integral_sing_1+integral_sing_2\n"
   ]
  },
  {
   "cell_type": "code",
   "execution_count": 15,
   "metadata": {},
   "outputs": [
    {
     "name": "stdout",
     "output_type": "stream",
     "text": [
      "[  0.3117854   -3.62954678  17.96561396 -48.47938114  71.24840254\n",
      "  -1.11211588]\n"
     ]
    },
    {
     "data": {
      "image/png": "[encoded data removed]",
      "text/plain": [
       "<Figure size 432x288 with 1 Axes>"
      ]
     },
     "metadata": {},
     "output_type": "display_data"
    }
   ],
   "source": [
    "Z_min=z-delta_z\n",
    "Z_max=z+delta_z\n",
    "z2=np.geomspace(0.8,2.5,100)\n",
    "z2_p=np.geomspace(0.8,2.5,100)\n",
    "\n",
    "f_z2=uf.f(z2)\n",
    "D_z2=uf.D_1(z2)\n",
    "H_z2=uf.H(z2)\n",
    "r_z2=uf.r(z2)\n",
    "tau_z2=uf.tau_inst(z2)\n",
    "z_func=f_z2*D_z2**2*(1+z2)*np.exp(-tau_z2)\n",
    "#print (trapz(z_func,z2))\n",
    "\n",
    "\n",
    "z2_poly_func=np.polyfit(z2, z_func, 5)\n",
    "p_func = np.poly1d(z2_poly_func)\n",
    "#print (z2_poly_func)\n",
    "#plt.plot(z2,z_func,'.r',z2_p,p_func(z2_p),'-b')\n",
    "#plt.semilogy(z2,np.abs(z_func-p_func(z2)))\n",
    "#plt.plot(z2,z_arg)\n",
    "#plt.show()\n",
    "z_arg=0.01*cc.c_light_Mpc_s*z2/(H_z2)\n",
    "z2_poly_arg=np.polyfit(z2, z_arg, 5)\n",
    "p_arg = np.poly1d(z2_poly_arg)\n",
    "print (z2_poly_arg)\n",
    "#plt.plot(z2,z_arg*1.e17,'.r',z2_p,1.e17*p_arg(z2_p),'-b')\n",
    "plt.semilogy(z2,np.abs(z_arg-p_arg(z2)))\n",
    "#plt.plot(z2,z_arg)\n",
    "plt.show()\n"
   ]
  },
  {
   "cell_type": "code",
   "execution_count": 31,
   "metadata": {},
   "outputs": [
    {
     "ename": "KeyboardInterrupt",
     "evalue": "",
     "output_type": "error",
     "traceback": [
      "\u001b[0;31m---------------------------------------------------------------------------\u001b[0m",
      "\u001b[0;31mKeyboardInterrupt\u001b[0m                         Traceback (most recent call last)",
      "\u001b[0;32m<ipython-input-31-15dc6a2ed127>\u001b[0m in \u001b[0;36m<module>\u001b[0;34m()\u001b[0m\n\u001b[1;32m      7\u001b[0m     \u001b[0;32mreturn\u001b[0m \u001b[0mFunc_mat\u001b[0m\u001b[0;34m\u001b[0m\u001b[0m\n\u001b[1;32m      8\u001b[0m \u001b[0;34m\u001b[0m\u001b[0m\n\u001b[0;32m----> 9\u001b[0;31m \u001b[0mZ\u001b[0m\u001b[0;34m=\u001b[0m\u001b[0mFunc_2d\u001b[0m\u001b[0;34m(\u001b[0m\u001b[0mell\u001b[0m\u001b[0;34m,\u001b[0m\u001b[0mz\u001b[0m\u001b[0;34m,\u001b[0m\u001b[0my\u001b[0m\u001b[0;34m,\u001b[0m\u001b[0mcrosscorr_squeezedlim_z_int\u001b[0m\u001b[0;34m,\u001b[0m \u001b[0mdelta_z\u001b[0m\u001b[0;34m)\u001b[0m\u001b[0;34m.\u001b[0m\u001b[0mT\u001b[0m\u001b[0;34m\u001b[0m\u001b[0m\n\u001b[0m\u001b[1;32m     10\u001b[0m \u001b[0mkperp_arr\u001b[0m\u001b[0;34m=\u001b[0m\u001b[0mell\u001b[0m\u001b[0;34m/\u001b[0m\u001b[0mchi\u001b[0m\u001b[0;34m(\u001b[0m\u001b[0mz\u001b[0m\u001b[0;34m)\u001b[0m\u001b[0;34m\u001b[0m\u001b[0m\n\u001b[1;32m     11\u001b[0m \u001b[0mkperp_arr\u001b[0m\u001b[0;34m=\u001b[0m\u001b[0mnp\u001b[0m\u001b[0;34m.\u001b[0m\u001b[0mgeomspace\u001b[0m\u001b[0;34m(\u001b[0m\u001b[0;36m1.e-4\u001b[0m\u001b[0;34m,\u001b[0m\u001b[0;36m1.e-1\u001b[0m\u001b[0;34m,\u001b[0m\u001b[0mn\u001b[0m\u001b[0;34m)\u001b[0m\u001b[0;34m\u001b[0m\u001b[0m\n",
      "\u001b[0;32m<ipython-input-31-15dc6a2ed127>\u001b[0m in \u001b[0;36mFunc_2d\u001b[0;34m(ell, z, y, Func, delta_z)\u001b[0m\n\u001b[1;32m      3\u001b[0m     \u001b[0;32mfor\u001b[0m \u001b[0mi\u001b[0m \u001b[0;32min\u001b[0m \u001b[0mrange\u001b[0m\u001b[0;34m(\u001b[0m\u001b[0mlen\u001b[0m\u001b[0;34m(\u001b[0m\u001b[0mell\u001b[0m\u001b[0;34m)\u001b[0m\u001b[0;34m)\u001b[0m\u001b[0;34m:\u001b[0m\u001b[0;34m\u001b[0m\u001b[0m\n\u001b[1;32m      4\u001b[0m         \u001b[0;32mfor\u001b[0m \u001b[0mj\u001b[0m \u001b[0;32min\u001b[0m \u001b[0mrange\u001b[0m\u001b[0;34m(\u001b[0m\u001b[0mlen\u001b[0m\u001b[0;34m(\u001b[0m\u001b[0my\u001b[0m\u001b[0;34m)\u001b[0m\u001b[0;34m)\u001b[0m\u001b[0;34m:\u001b[0m\u001b[0;34m\u001b[0m\u001b[0m\n\u001b[0;32m----> 5\u001b[0;31m             \u001b[0mFunc_ind\u001b[0m\u001b[0;34m=\u001b[0m\u001b[0mFunc\u001b[0m\u001b[0;34m(\u001b[0m\u001b[0mell\u001b[0m\u001b[0;34m[\u001b[0m\u001b[0mi\u001b[0m\u001b[0;34m]\u001b[0m\u001b[0;34m,\u001b[0m\u001b[0mz\u001b[0m\u001b[0;34m,\u001b[0m\u001b[0my\u001b[0m\u001b[0;34m[\u001b[0m\u001b[0mj\u001b[0m\u001b[0;34m]\u001b[0m\u001b[0;34m,\u001b[0m\u001b[0mdelta_z\u001b[0m\u001b[0;34m)\u001b[0m\u001b[0;34m\u001b[0m\u001b[0m\n\u001b[0m\u001b[1;32m      6\u001b[0m             \u001b[0mFunc_mat\u001b[0m\u001b[0;34m[\u001b[0m\u001b[0mi\u001b[0m\u001b[0;34m]\u001b[0m\u001b[0;34m[\u001b[0m\u001b[0mj\u001b[0m\u001b[0;34m]\u001b[0m\u001b[0;34m=\u001b[0m\u001b[0mFunc_ind\u001b[0m\u001b[0;34m\u001b[0m\u001b[0m\n\u001b[1;32m      7\u001b[0m     \u001b[0;32mreturn\u001b[0m \u001b[0mFunc_mat\u001b[0m\u001b[0;34m\u001b[0m\u001b[0m\n",
      "\u001b[0;32m<ipython-input-14-efe7862ddf2b>\u001b[0m in \u001b[0;36mcrosscorr_squeezedlim_z_int\u001b[0;34m(ell, z_i, y, delta_z)\u001b[0m\n\u001b[1;32m     10\u001b[0m     \u001b[0mu\u001b[0m\u001b[0;34m,\u001b[0m\u001b[0mkp\u001b[0m\u001b[0;34m,\u001b[0m\u001b[0mz1\u001b[0m\u001b[0;34m=\u001b[0m\u001b[0mnp\u001b[0m\u001b[0;34m.\u001b[0m\u001b[0mmeshgrid\u001b[0m\u001b[0;34m(\u001b[0m\u001b[0mU\u001b[0m\u001b[0;34m,\u001b[0m\u001b[0mKp\u001b[0m\u001b[0;34m,\u001b[0m\u001b[0mZ1\u001b[0m\u001b[0;34m)\u001b[0m\u001b[0;34m\u001b[0m\u001b[0m\n\u001b[1;32m     11\u001b[0m     \u001b[0mT_mean_z1\u001b[0m\u001b[0;34m=\u001b[0m\u001b[0muf\u001b[0m\u001b[0;34m.\u001b[0m\u001b[0mT_mean\u001b[0m\u001b[0;34m(\u001b[0m\u001b[0mz1\u001b[0m\u001b[0;34m)\u001b[0m\u001b[0;34m\u001b[0m\u001b[0m\n\u001b[0;32m---> 12\u001b[0;31m     \u001b[0mchi_z1\u001b[0m\u001b[0;34m=\u001b[0m\u001b[0mchi\u001b[0m\u001b[0;34m(\u001b[0m\u001b[0mz1\u001b[0m\u001b[0;34m)\u001b[0m\u001b[0;34m\u001b[0m\u001b[0m\n\u001b[0m\u001b[1;32m     13\u001b[0m     \u001b[0mchi_z\u001b[0m\u001b[0;34m=\u001b[0m\u001b[0mchi\u001b[0m\u001b[0;34m(\u001b[0m\u001b[0mz\u001b[0m\u001b[0;34m)\u001b[0m\u001b[0;34m\u001b[0m\u001b[0m\n\u001b[1;32m     14\u001b[0m     \u001b[0mf_z1\u001b[0m\u001b[0;34m=\u001b[0m\u001b[0muf\u001b[0m\u001b[0;34m.\u001b[0m\u001b[0mf\u001b[0m\u001b[0;34m(\u001b[0m\u001b[0mz1\u001b[0m\u001b[0;34m)\u001b[0m\u001b[0;34m\u001b[0m\u001b[0m\n",
      "\u001b[0;32m/home/zahra/python_scripts/kSZ_21cm_signal/useful_functions.pyc\u001b[0m in \u001b[0;36mchi\u001b[0;34m(z)\u001b[0m\n\u001b[1;32m     50\u001b[0m \u001b[0;34m\u001b[0m\u001b[0m\n\u001b[1;32m     51\u001b[0m \u001b[0;32mdef\u001b[0m \u001b[0mchi\u001b[0m\u001b[0;34m(\u001b[0m\u001b[0mz\u001b[0m\u001b[0;34m)\u001b[0m\u001b[0;34m:\u001b[0m\u001b[0;34m\u001b[0m\u001b[0m\n\u001b[0;32m---> 52\u001b[0;31m     \u001b[0mchi_full\u001b[0m \u001b[0;34m=\u001b[0m \u001b[0mcd\u001b[0m\u001b[0;34m.\u001b[0m\u001b[0mcomoving_distance\u001b[0m\u001b[0;34m(\u001b[0m\u001b[0mz\u001b[0m\u001b[0;34m,\u001b[0m \u001b[0;34m**\u001b[0m\u001b[0mcosmo\u001b[0m\u001b[0;34m)\u001b[0m\u001b[0;34m\u001b[0m\u001b[0m\n\u001b[0m\u001b[1;32m     53\u001b[0m     \u001b[0;32mreturn\u001b[0m \u001b[0mchi_full\u001b[0m\u001b[0;34m\u001b[0m\u001b[0m\n\u001b[1;32m     54\u001b[0m \u001b[0;34m\u001b[0m\u001b[0m\n",
      "\u001b[0;32m/home/zahra/python_scripts/kSZ_21cm_signal/distance.pyc\u001b[0m in \u001b[0;36mcomoving_distance\u001b[0;34m(z, z0, **cosmo)\u001b[0m\n\u001b[1;32m    147\u001b[0m                         \u001b[0mcosmo\u001b[0m\u001b[0;34m[\u001b[0m\u001b[0;34m'omega_k_0'\u001b[0m\u001b[0;34m]\u001b[0m\u001b[0;34m,\u001b[0m\u001b[0;34m\u001b[0m\u001b[0m\n\u001b[1;32m    148\u001b[0m                         \u001b[0mcosmo\u001b[0m\u001b[0;34m[\u001b[0m\u001b[0;34m'h'\u001b[0m\u001b[0;34m]\u001b[0m\u001b[0;34m,\u001b[0m\u001b[0;34m\u001b[0m\u001b[0m\n\u001b[0;32m--> 149\u001b[0;31m                         \u001b[0mw\u001b[0m\u001b[0;34m\u001b[0m\u001b[0m\n\u001b[0m\u001b[1;32m    150\u001b[0m                         )\n\u001b[1;32m    151\u001b[0m     \u001b[0;32mreturn\u001b[0m \u001b[0md_co\u001b[0m\u001b[0;34m\u001b[0m\u001b[0m\n",
      "\u001b[0;32m/home/zahra/anaconda3/envs/py27/lib/python2.7/site-packages/numpy/lib/function_base.pyc\u001b[0m in \u001b[0;36m__call__\u001b[0;34m(self, *args, **kwargs)\u001b[0m\n\u001b[1;32m   1970\u001b[0m             \u001b[0mvargs\u001b[0m\u001b[0;34m.\u001b[0m\u001b[0mextend\u001b[0m\u001b[0;34m(\u001b[0m\u001b[0;34m[\u001b[0m\u001b[0mkwargs\u001b[0m\u001b[0;34m[\u001b[0m\u001b[0m_n\u001b[0m\u001b[0;34m]\u001b[0m \u001b[0;32mfor\u001b[0m \u001b[0m_n\u001b[0m \u001b[0;32min\u001b[0m \u001b[0mnames\u001b[0m\u001b[0;34m]\u001b[0m\u001b[0;34m)\u001b[0m\u001b[0;34m\u001b[0m\u001b[0m\n\u001b[1;32m   1971\u001b[0m \u001b[0;34m\u001b[0m\u001b[0m\n\u001b[0;32m-> 1972\u001b[0;31m         \u001b[0;32mreturn\u001b[0m \u001b[0mself\u001b[0m\u001b[0;34m.\u001b[0m\u001b[0m_vectorize_call\u001b[0m\u001b[0;34m(\u001b[0m\u001b[0mfunc\u001b[0m\u001b[0;34m=\u001b[0m\u001b[0mfunc\u001b[0m\u001b[0;34m,\u001b[0m \u001b[0margs\u001b[0m\u001b[0;34m=\u001b[0m\u001b[0mvargs\u001b[0m\u001b[0;34m)\u001b[0m\u001b[0;34m\u001b[0m\u001b[0m\n\u001b[0m\u001b[1;32m   1973\u001b[0m \u001b[0;34m\u001b[0m\u001b[0m\n\u001b[1;32m   1974\u001b[0m     \u001b[0;32mdef\u001b[0m \u001b[0m_get_ufunc_and_otypes\u001b[0m\u001b[0;34m(\u001b[0m\u001b[0mself\u001b[0m\u001b[0;34m,\u001b[0m \u001b[0mfunc\u001b[0m\u001b[0;34m,\u001b[0m \u001b[0margs\u001b[0m\u001b[0;34m)\u001b[0m\u001b[0;34m:\u001b[0m\u001b[0;34m\u001b[0m\u001b[0m\n",
      "\u001b[0;32m/home/zahra/anaconda3/envs/py27/lib/python2.7/site-packages/numpy/lib/function_base.pyc\u001b[0m in \u001b[0;36m_vectorize_call\u001b[0;34m(self, func, args)\u001b[0m\n\u001b[1;32m   2046\u001b[0m                       for a in args]\n\u001b[1;32m   2047\u001b[0m \u001b[0;34m\u001b[0m\u001b[0m\n\u001b[0;32m-> 2048\u001b[0;31m             \u001b[0moutputs\u001b[0m \u001b[0;34m=\u001b[0m \u001b[0mufunc\u001b[0m\u001b[0;34m(\u001b[0m\u001b[0;34m*\u001b[0m\u001b[0minputs\u001b[0m\u001b[0;34m)\u001b[0m\u001b[0;34m\u001b[0m\u001b[0m\n\u001b[0m\u001b[1;32m   2049\u001b[0m \u001b[0;34m\u001b[0m\u001b[0m\n\u001b[1;32m   2050\u001b[0m             \u001b[0;32mif\u001b[0m \u001b[0mufunc\u001b[0m\u001b[0;34m.\u001b[0m\u001b[0mnout\u001b[0m \u001b[0;34m==\u001b[0m \u001b[0;36m1\u001b[0m\u001b[0;34m:\u001b[0m\u001b[0;34m\u001b[0m\u001b[0m\n",
      "\u001b[0;32m/home/zahra/python_scripts/kSZ_21cm_signal/distance.pyc\u001b[0m in \u001b[0;36m<lambda>\u001b[0;34m(z, z0, omega_M_0, omega_lambda_0, omega_k_0, h, w)\u001b[0m\n\u001b[1;32m    141\u001b[0m         numpy.vectorize(lambda z, z0, omega_M_0, omega_lambda_0, omega_k_0, h, w: \n\u001b[1;32m    142\u001b[0m                         si.quad(_comoving_integrand, z0, z, limit=1000,\n\u001b[0;32m--> 143\u001b[0;31m                                 args=(omega_M_0, omega_lambda_0, omega_k_0, h, w)))\n\u001b[0m\u001b[1;32m    144\u001b[0m     d_co, err = dc_func(z, z0, \n\u001b[1;32m    145\u001b[0m                         \u001b[0mcosmo\u001b[0m\u001b[0;34m[\u001b[0m\u001b[0;34m'omega_M_0'\u001b[0m\u001b[0;34m]\u001b[0m\u001b[0;34m,\u001b[0m\u001b[0;34m\u001b[0m\u001b[0m\n",
      "\u001b[0;32m/home/zahra/anaconda3/envs/py27/lib/python2.7/site-packages/scipy/integrate/quadpack.pyc\u001b[0m in \u001b[0;36mquad\u001b[0;34m(func, a, b, args, full_output, epsabs, epsrel, limit, points, weight, wvar, wopts, maxp1, limlst)\u001b[0m\n\u001b[1;32m    335\u001b[0m \u001b[0;34m\u001b[0m\u001b[0m\n\u001b[1;32m    336\u001b[0m     \u001b[0;31m# check the limits of integration: \\int_a^b, expect a < b\u001b[0m\u001b[0;34m\u001b[0m\u001b[0;34m\u001b[0m\u001b[0m\n\u001b[0;32m--> 337\u001b[0;31m     \u001b[0mflip\u001b[0m\u001b[0;34m,\u001b[0m \u001b[0ma\u001b[0m\u001b[0;34m,\u001b[0m \u001b[0mb\u001b[0m \u001b[0;34m=\u001b[0m \u001b[0mb\u001b[0m \u001b[0;34m<\u001b[0m \u001b[0ma\u001b[0m\u001b[0;34m,\u001b[0m \u001b[0mmin\u001b[0m\u001b[0;34m(\u001b[0m\u001b[0ma\u001b[0m\u001b[0;34m,\u001b[0m \u001b[0mb\u001b[0m\u001b[0;34m)\u001b[0m\u001b[0;34m,\u001b[0m \u001b[0mmax\u001b[0m\u001b[0;34m(\u001b[0m\u001b[0ma\u001b[0m\u001b[0;34m,\u001b[0m \u001b[0mb\u001b[0m\u001b[0;34m)\u001b[0m\u001b[0;34m\u001b[0m\u001b[0m\n\u001b[0m\u001b[1;32m    338\u001b[0m \u001b[0;34m\u001b[0m\u001b[0m\n\u001b[1;32m    339\u001b[0m     \u001b[0;32mif\u001b[0m \u001b[0mweight\u001b[0m \u001b[0;32mis\u001b[0m \u001b[0mNone\u001b[0m\u001b[0;34m:\u001b[0m\u001b[0;34m\u001b[0m\u001b[0m\n",
      "\u001b[0;31mKeyboardInterrupt\u001b[0m: "
     ]
    }
   ],
   "source": [
    "def Func_2d(ell,z,y,Func,delta_z):\n",
    "    Func_mat=np.zeros((len(ell),len(y)))\n",
    "    for i in range(len(ell)):\n",
    "        for j in range(len(y)):\n",
    "            Func_ind=Func(ell[i],z,y[j],delta_z)\n",
    "            Func_mat[i][j]=Func_ind\n",
    "    return Func_mat\n",
    "\n",
    "Z=Func_2d(ell,z,y,crosscorr_squeezedlim_z_int, delta_z).T\n",
    "kperp_arr=ell/chi(z)\n",
    "kperp_arr=np.geomspace(1.e-4,1.e-1,n)\n",
    "kpar_arr=y/r(z)\n",
    "print (kperp_arr.min(),kperp_arr.max())\n",
    "pylab.pcolormesh(kperp_arr,kpar_arr,Z,norm=LogNorm()) ;  cbar=plt.colorbar()\n",
    "cbar.ax.tick_params(labelsize=12)\n",
    "plt.tick_params(axis='both', which='major', labelsize=12)\n",
    "pylab.xlim([np.min(kperp_arr),np.max(kperp_arr)]) ; pylab.ylim([np.min(kpar_arr),np.max(kpar_arr)])\n",
    "plt.xlabel(r'$k_\\perp$',fontsize=12); plt.ylabel(r'$k_\\parallel$',fontsize=12);\n",
    "plt.xscale('log')\n",
    "plt.yscale('log')\n",
    "#plt.savefig('2D_bispec_squeezed_no_dz1_integral_30_pts_z_1pt26_deltaz_pt00015.png', dpi=300, bbox_inches='tight')\n",
    "\n",
    "pylab.show()"
   ]
  },
  {
   "cell_type": "code",
   "execution_count": 17,
   "metadata": {},
   "outputs": [],
   "source": [
    "def HiraxNoise(l,Ddish,Dsep,zi,delta_z): #the Dsep refers to the dish seperation including the dish diameter of 6. So we're assuming dishes are 1m away\n",
    "        z_min=zi-delta_z\n",
    "        z_max=zi+delta_z\n",
    "        nu_21=1420\n",
    "        nu_min=nu_21/(1+z_max) #743. #585. # #freq in MHz, these min and max values are based on HIRAX\n",
    "        nu_max=nu_21/(1+z_min)#784. #665. #\n",
    "        cp= HIRAXArrayConfig.from_n_elem_compact(1024,Dsep)\n",
    "        nubar=(nu_min+nu_max)/2.\n",
    "\n",
    "        Fov_deg=(cp.fov(frequency=nubar)) * ((180./np.pi)**2)\n",
    "        Fov_str=(cp.fov(frequency=nubar))\n",
    "        Tsys= 50. + 60.*((nubar/300.)**-2.5)\n",
    "        lam=3.e8/(nubar*1.e6)\n",
    "        Nbeam=1.\n",
    "        npol=2.\n",
    "        nu21=1420.e6\n",
    "        Aeff=np.pi*((Ddish/2.)**2)*0.67\n",
    "        Ttot=100.8e6 #36e6   4*365*24*3600.\n",
    "        #Ttot=2*365*24*3600\n",
    "        Sarea=15000.\n",
    "        pconv=(chi(zi)**2)*r(zi)\n",
    "        n_u=cp.baseline_density_spline(frequency=nubar)\n",
    "        n=np.array([])\n",
    "        for i in l:\n",
    "            if n_u(i/(2.*np.pi))==0:\n",
    "                n_u1=1/1e100\n",
    "            else:\n",
    "                n_u1=n_u(i/(2.*np.pi))\n",
    "            n=np.append(n,n_u1)\n",
    "        Nbs= 1024.*(1024.-1.)\n",
    "        #norm=Nbs/sp.integrate.trapz(n*2*np.pi*(l/(2.*np.pi)), l/(2.*np.pi))\n",
    "        C=n#*noprint (nu_min)\n",
    "        A_bull= ((Tsys**2)*(lam**4)*Sarea) / (nu21*npol*Ttot*(Aeff**2)*Fov_deg*Nbeam)\n",
    "        Warren=Tsys**2*lam**2/Aeff*4.*np.pi/(nu21*npol*Nbeam*Ttot)\n",
    "        #return (Warren/C)*1e12\n",
    "        return (A_bull/C)*1e12\n",
    "\n",
    "ell_large=np.geomspace(1.e-10,1.e6,10000)\n",
    "Hirax_noise_z_1pt26_deltaz_pt0015 = interp1d(ell_large, HiraxNoise(ell_large,6.,7.,1.26,0.0015), bounds_error=False)\n",
    "Hirax_noise_z_1pt26_deltaz_pt00015 = interp1d(ell_large, HiraxNoise(ell_large,6.,7.,1.26,0.00015), bounds_error=False)\n",
    "Noise=Hirax_noise_z_1pt26_deltaz_pt0015"
   ]
  },
  {
   "cell_type": "code",
   "execution_count": 18,
   "metadata": {},
   "outputs": [
    {
     "name": "stdout",
     "output_type": "stream",
     "text": [
      "(0.0003443408760764093, 1.7217043803820464)\n"
     ]
    },
    {
     "data": {
      "image/png": "[encoded data removed]",
      "text/plain": [
       "<Figure size 432x288 with 2 Axes>"
      ]
     },
     "metadata": {},
     "output_type": "display_data"
    }
   ],
   "source": [
    "def PN_integrals_squeezedlim_no_redshift_int(ell,z_i,y , delta_z, Noise):\n",
    "    Kp=np.geomspace(1.e-6,1.,n)\n",
    "    U=np.linspace(-.9999,.9999,n)\n",
    "    #Z_min=z_i-delta_z\n",
    "    #Z_max=z_i+delta_z\n",
    "    #z1=np.geomspace(Z_min,Z_max,n)\n",
    "    z1=z_i\n",
    "    z2=z1\n",
    "    u,kp=np.meshgrid(U,Kp)\n",
    "\n",
    "    T_mean=uf.T_mean\n",
    "    chi_z1=chi(z1)\n",
    "    f=uf.f\n",
    "    D=uf.D_1\n",
    "    r=uf.r\n",
    "    H=uf.H\n",
    "\n",
    "    kpar=y/r(z1)\n",
    "\n",
    "    kp_perp=kp*np.sqrt(1-u**2)\n",
    "    Noise_kp_perp=Noise(kp_perp*chi(z1))\n",
    "    '''\n",
    "    for i in range(len(Noise_kp_perp)):\n",
    "        if Noise_kp_perp[i]>1.e4:\n",
    "            Noise_kp_perp[i]=0.\n",
    "    '''\n",
    "    #print (Noise_kp_perp.min(),Noise_kp_perp.max(),'Noise of kp perp')\n",
    "    mock_arr=np.geomspace(2.e-2,6.e-1,n)\n",
    "    #print (Noise(mock_arr*chi(z1)).min(),Noise(mock_arr*chi(z1)).max(),'Noise of mock arr')\n",
    "    kp_par=kp*u\n",
    "    theta_kp=u\n",
    "\n",
    "    const=1./(cc.c_light_Mpc_s**2*8*np.pi**2)\n",
    "    k_perp=ell/chi_z1\n",
    "    k=np.sqrt(kpar**2+k_perp**2)\n",
    "    zeta=(kpar/k*u+k_perp/k*np.sqrt(np.abs(1-u**2)))\n",
    "    k_dot_kp=k_perp*kp_perp+kpar*kp_par*zeta\n",
    "    kperp_dot_kp_perp=k_perp*kp_perp\n",
    "    K_perp=k_perp\n",
    "    K=np.sqrt(np.abs(k**2+kp**2-2*k_dot_kp))\n",
    "    #K=k\n",
    "    #print (theta_K.min())\n",
    "    theta_K=np.abs(kpar/K/k**2*(k**2-k_dot_kp)-kp*k_perp*np.sqrt(np.abs(1-zeta**2))/k/K)\n",
    "    #theta_K=kpar/k\n",
    "    mu_k_sq=kpar**2/k**2\n",
    "    rsd_1=1.+f(z1)*kpar**2/k**2\n",
    "    rsd_2=1.+f(z2)*kpar**2/k**2\n",
    "    Noise_Kperp=Noise(K_perp*chi(z1))\n",
    "    #print (kp_perp.min())\n",
    "    max=100.\n",
    "    redshift_PP=T_mean(z1)**2*T_mean(z2)**2*f(z1)*f(z2)*rsd_1**2*rsd_2**2*H(z1)*H(z2)*D(z1)**2*D(z2)**2/(chi(z1)**2*r(z1)*(1+z1)*(1+z2))\n",
    "    redshift_PN=T_mean(z1)*T_mean(z2)*rsd_1*rsd_2*f(z1)*f(z2)*H(z1)*H(z2)*D(z1)*D(z2)/((1+z1)*(1+z2))\n",
    "    redshift_NN=f(z1)*f(z2)*H(z1)*H(z2)*chi(z1)**2*r(z1)/((1+z1)*(1+z2))\n",
    "    integrand_P_deldel_P_vv=redshift_PP*theta_kp**2*Mps_interpf(kp)*Mps_interpf(K)\n",
    "    integrand_P_delv_P_delv=redshift_PP*theta_kp*theta_K*kp**2*Mps_interpf(kp)*Mps_interpf(K)/K/kp\n",
    "    integrand_P_vv_N_deldel=redshift_PN*theta_kp**2*np.ma.masked_greater(Noise_Kperp,max)*Mps_interpf(kp)\n",
    "    integrand_P_deldel_N_vv=redshift_PN*theta_kp**2 *np.ma.masked_greater(Noise_kp_perp,max) *Mps_interpf(K)\n",
    "    integrand_P_delv_N_delv_1=redshift_PN*theta_kp*theta_K *kp**2 *np.ma.masked_greater(Noise_kp_perp,max) *Mps_interpf(K)/K/kp\n",
    "    integrand_P_delv_N_delv_2=redshift_PN*theta_kp*theta_K *kp**2 *np.ma.masked_greater(Noise_Kperp,max) *Mps_interpf(kp)/K/kp\n",
    "    integrand_N_deldel_N_vv=redshift_NN*theta_kp**2 *np.ma.masked_greater(Noise_kp_perp,max)*np.ma.masked_greater(Noise_Kperp,max)\n",
    "    integrand_N_delv_N_delv=redshift_NN*theta_kp*theta_K *kp**2/K/kp *np.ma.masked_greater(Noise_kp_perp,max)*np.ma.masked_greater(Noise_Kperp,max)\n",
    "\n",
    "    integral_P_deldel_P_vv=const*trapz(trapz(integrand_P_deldel_P_vv,U,axis=0),Kp,axis=0)\n",
    "    integral_P_delv_P_delv=const*trapz(trapz(integrand_P_delv_P_delv,U,axis=0),Kp,axis=0)\n",
    "    integral_P_vv_N_deldel=const*trapz(trapz(integrand_P_vv_N_deldel,U,axis=0),Kp,axis=0)\n",
    "    integral_P_vv_N_deldel=np.ma.filled(integral_P_vv_N_deldel,1.e-100)\n",
    "    integral_P_deldel_N_vv=const*trapz(trapz(integrand_P_deldel_N_vv,U,axis=0),Kp,axis=0)\n",
    "    integral_P_deldel_N_vv=np.ma.filled(integral_P_deldel_N_vv,1.e-100)\n",
    "    integral_P_delv_N_delv_1=const*trapz(trapz(integrand_P_delv_N_delv_1,U,axis=0),Kp,axis=0)\n",
    "    integral_P_delv_N_delv_1=np.ma.filled(integral_P_delv_N_delv_1,1.e-100)\n",
    "    integral_P_delv_N_delv_2=const*trapz(trapz(integrand_P_delv_N_delv_2,U,axis=0),Kp,axis=0)\n",
    "    integral_P_delv_N_delv_2=np.ma.filled(integral_P_delv_N_delv_2,1.e-100)\n",
    "    integral_N_deldel_N_vv=const*trapz(trapz(integrand_N_deldel_N_vv,U,axis=0),Kp,axis=0)\n",
    "    integral_N_deldel_N_vv=np.ma.filled(integral_N_deldel_N_vv,1.e-100)\n",
    "    integral_N_delv_N_delv=const*trapz(trapz(integrand_N_delv_N_delv,U,axis=0),Kp,axis=0)\n",
    "    integral_N_delv_N_delv=np.ma.filled(integral_N_delv_N_delv,1.e-100)\n",
    "\n",
    "    P_integral_sum=integral_P_deldel_P_vv+integral_P_delv_P_delv+integral_P_vv_N_deldel+integral_P_deldel_N_vv+integral_P_delv_N_delv_1+integral_P_delv_N_delv_2+integral_N_deldel_N_vv+integral_N_delv_N_delv\n",
    "    #P_integral_sum=integral_P_delv_N_delv_1\n",
    "    return P_integral_sum\n",
    "\n",
    "#print (PN_integrals_squeezedlim_no_redshift_int(100.,1.26,10. , .0015, Hirax_noise_z_1pt26_deltaz_pt0015))\n",
    "\n",
    "def Func_noise(ell,z,y,Func,delta_z,Noise):\n",
    "    Func_mat=np.zeros((len(ell),len(y)))\n",
    "    for i in range(len(ell)):\n",
    "        for j in range(len(y)):\n",
    "            Func_ind=Func(ell[i],z,y[j],delta_z,Noise)\n",
    "            Func_mat[i][j]=Func_ind\n",
    "    return Func_mat\n",
    "\n",
    "Z=Func_noise(ell,z,y,PN_integrals_squeezedlim_no_redshift_int, delta_z,Noise).T\n",
    "kperp_arr=ell/chi(z)\n",
    "kpar_arr=y/r(z)\n",
    "print (kperp_arr.min(),kperp_arr.max())\n",
    "\n",
    "pylab.pcolormesh(kperp_arr,kpar_arr,Z,vmax=0.00035) ;  cbar=plt.colorbar()\n",
    "cbar.ax.tick_params(labelsize=12)\n",
    "plt.tick_params(axis='both', which='major', labelsize=12)\n",
    "pylab.xlim([np.min(kperp_arr),np.max(kperp_arr)]) ; pylab.ylim([np.min(kpar_arr),np.max(kpar_arr)])\n",
    "plt.xlabel(r'$k_\\perp$',fontsize=12); plt.ylabel(r'$k_\\parallel$',fontsize=12);plt.title(r'$C_{l,y}^{{p21,tot}}(z=1.26)[\\mu K^4]}$')\n",
    "plt.xscale('log')\n",
    "plt.yscale('log')\n",
    "#plt.savefig('2D_C_l_p21_with_noise_squeezed_no_dz1_integral_30_pts_z_1pt26.png', dpi=300, bbox_inches='tight')\n",
    "pylab.show()"
   ]
  },
  {
   "cell_type": "code",
   "execution_count": 19,
   "metadata": {},
   "outputs": [
    {
     "name": "stderr",
     "output_type": "stream",
     "text": [
      "/home/zahra/python_scripts/CMB_noise/scal_power_spectra.py:161: RuntimeWarning: divide by zero encountered in divide\n",
      "  nl=1/b_sq\n",
      "/home/zahra/python_scripts/CMB_noise/scal_power_spectra.py:161: RuntimeWarning: overflow encountered in divide\n",
      "  nl=1/b_sq\n"
     ]
    }
   ],
   "source": [
    "import sys\n",
    "sys.path.insert(0,'/home/zahra/python_scripts/CMB_noise')\n",
    "import scal_power_spectra as cmb\n",
    "\n",
    "cmb_spec=cmb.cl_tt_func_bis\n",
    "cmb_noise=cmb.nl_tt_ref_func_bis\n"
   ]
  },
  {
   "cell_type": "code",
   "execution_count": 20,
   "metadata": {},
   "outputs": [
    {
     "data": {
      "text/plain": [
       "Text(0,0.5,'$C_l^{TT}+N_l^{TT}+C_l^{OV}$')"
      ]
     },
     "execution_count": 20,
     "metadata": {},
     "output_type": "execute_result"
    },
    {
     "data": {
      "image/png": "[encoded data removed]",
      "text/plain": [
       "<Figure size 432x288 with 1 Axes>"
      ]
     },
     "metadata": {},
     "output_type": "display_data"
    }
   ],
   "source": [
    "ell_1000pts=np.geomspace(2.,1.e4,1000)\n",
    "kperp_arr_1000pts=ell_1000pts/chi(z)\n",
    "plt.loglog(kperp_arr_1000pts,OV_interp(ell_1000pts)+cmb_spec(ell_1000pts)+cmb_noise(ell_1000pts))\n",
    "plt.xlabel(r'$k_\\perp$',fontsize=12)\n",
    "plt.ylabel(r'$C_l^{TT}+N_l^{TT}+C_l^{OV}$')\n",
    "#plt.savefig('C_l_^TT_N_l^TT_C_l_OV_deltaz_pt0015_summed.png', dpi=300, bbox_inches='tight')\n"
   ]
  },
  {
   "cell_type": "code",
   "execution_count": 21,
   "metadata": {},
   "outputs": [],
   "source": [
    "def Bispec(ell,z_i,y,delta_z,Noise):\n",
    "    Ell,Y=np.meshgrid(ell,y)\n",
    "    S=crosscorr_squeezedlim(Ell,z_i,Y, delta_z)\n",
    "    N_ksz=cmb_spec(Ell)+cmb_noise(Ell)\n",
    "    S_ksz=OV_interp(Ell)\n",
    "    S_N_p21=PN_integrals_squeezedlim_no_redshift_int(Ell,z_i,Y , delta_z, Noise)\n",
    "    variance=(S_ksz+N_ksz)*(S_N_p21)+3.*S**2\n",
    "    sigma=np.sqrt(variance)\n",
    "    return sigma\n"
   ]
  },
  {
   "cell_type": "code",
   "execution_count": 22,
   "metadata": {},
   "outputs": [
    {
     "data": {
      "image/png": "[encoded data removed]",
      "text/plain": [
       "<Figure size 432x288 with 2 Axes>"
      ]
     },
     "metadata": {},
     "output_type": "display_data"
    }
   ],
   "source": [
    "kperp_arr=ell/chi(z)\n",
    "kpar_arr=y/r(z)\n",
    "\n",
    "#print (kperp_arr.min())\n",
    "#ell_2d=np.outer(ell,np.ones(len(y)))\n",
    "pylab.pcolormesh(kperp_arr,kpar_arr,Bispec(ell,z,y, delta_z, Noise)) ;  cbar=plt.colorbar()\n",
    "cbar.ax.tick_params(labelsize=12)\n",
    "plt.tick_params(axis='both', which='major', labelsize=12)\n",
    "pylab.xlim([np.min(kperp_arr),np.max(kperp_arr)]) ; pylab.ylim([np.min(kpar_arr),np.max(kpar_arr)])\n",
    "plt.xlabel(r'$k_\\perp$',fontsize=12); plt.ylabel(r'$k_\\parallel$',fontsize=12); plt.title('2D sigma', x=1.13, y=1.05)\n",
    "plt.xscale('log')\n",
    "plt.yscale('log')\n",
    "plt.show()"
   ]
  },
  {
   "cell_type": "code",
   "execution_count": 23,
   "metadata": {},
   "outputs": [],
   "source": [
    "def Bispec_SNR(ell,z,y,delta_z,ell_2d,Noise):\n",
    "    S = Func_2d(ell,z,y,crosscorr_squeezedlim,delta_z)\n",
    "    N_ksz=cmb_spec(ell_2d)+cmb_noise(ell_2d)\n",
    "    S_ksz=OV_interp(ell_2d)\n",
    "    S_N_p21=Func_noise(ell,z,y,PN_integrals_squeezedlim_no_redshift_int,delta_z, Noise)\n",
    "    variance=(S_ksz+N_ksz)*(S_N_p21)+3.*S**2\n",
    "    sigma=np.sqrt(variance)\n",
    "    return S/sigma,S,sigma\n"
   ]
  },
  {
   "cell_type": "code",
   "execution_count": 24,
   "metadata": {},
   "outputs": [
    {
     "name": "stdout",
     "output_type": "stream",
     "text": [
      "10000.0\n"
     ]
    },
    {
     "data": {
      "text/plain": [
       "(30, 30)"
      ]
     },
     "execution_count": 24,
     "metadata": {},
     "output_type": "execute_result"
    }
   ],
   "source": [
    "ell_2d=np.outer(ell,np.ones(len(y)))\n",
    "print (ell.max())\n",
    "OV_interp(ell_2d).shape\n",
    "#Bispec_SNR(ell,1.26,y,.0015,ell_2d,Hirax_noise_z_1pt26_deltaz_pt0015)[2]"
   ]
  },
  {
   "cell_type": "code",
   "execution_count": 25,
   "metadata": {},
   "outputs": [
    {
     "name": "stdout",
     "output_type": "stream",
     "text": [
      "0.0001\n"
     ]
    },
    {
     "data": {
      "image/png": "[encoded data removed]",
      "text/plain": [
       "<Figure size 432x288 with 2 Axes>"
      ]
     },
     "metadata": {},
     "output_type": "display_data"
    }
   ],
   "source": [
    "kperp_arr=np.geomspace(1.e-4,1.e-2,n)\n",
    "kpar_arr=y/r(z)\n",
    "\n",
    "print (kperp_arr.min())\n",
    "#print (Bispec_SNR(ell,1.26,y,.0015,ell_2d,Hirax_noise_z_1pt26_deltaz_pt0015)[2].T)\n",
    "ell_2d=np.outer(ell,np.ones(len(y)))\n",
    "pylab.pcolormesh(kperp_arr,kpar_arr,Bispec_SNR(ell,z,y, delta_z,ell_2d, Noise)[2].T) ;  cbar=plt.colorbar()\n",
    "cbar.ax.tick_params(labelsize=12)\n",
    "plt.tick_params(axis='both', which='major', labelsize=12)\n",
    "pylab.xlim([np.min(kperp_arr),np.max(kperp_arr)]) ; pylab.ylim([np.min(kpar_arr),np.max(kpar_arr)])\n",
    "plt.xlabel(r'$k_\\perp$',fontsize=12); plt.ylabel(r'$k_\\parallel$',fontsize=12); plt.title('2D sigma', x=1.13, y=1.05)\n",
    "plt.xscale('log')\n",
    "plt.yscale('log')\n",
    "#plt.savefig('2D_sigma_squeezedlim_z_1pt26_deltaz_pt00015_no_dz1_integral.png', dpi=300, bbox_inches='tight')\n",
    "plt.show()\n"
   ]
  },
  {
   "cell_type": "code",
   "execution_count": 26,
   "metadata": {},
   "outputs": [],
   "source": [
    "def SNR_binned(z,delta_z,Noise,SNR,Sarea_deg,Dsep):\n",
    "    z_min=z-delta_z\n",
    "    z_max=z+delta_z\n",
    "    nu_21=1420. #MHz\n",
    "    nu_min=nu_21/(1+z_max) #743. #585. # #freq in MHz, these min and max values are based on HIRAX\n",
    "    nu_max=nu_21/(1+z_min) #784. #665. #\n",
    "    nubar=(nu_min+nu_max)/2.\n",
    "    cp= HIRAXArrayConfig.from_n_elem_compact(1024,Dsep)\n",
    "    Fov_str=(cp.fov(frequency=nubar))\n",
    "    print (Fov_str,'fov')\n",
    "    Sarea=Sarea_deg*(np.pi/180.)**2 #converting from square degrees to square radians\n",
    "    print (Sarea,'sarea')\n",
    "    fsky=Sarea/4./np.pi\n",
    "    delta_nu_dimless=(nu_max-nu_min)/nu_21\n",
    "    N_patches=Sarea/Fov_str\n",
    "    Mode_Volume_Factor=fsky*Sarea*delta_nu_dimless#*2\n",
    "    num_k_bins_y=25\n",
    "    num_k_bins_ell=25\n",
    "    n=50\n",
    "    kpar_arr = np.zeros(num_k_bins_y) ; kperp_arr= np.zeros(num_k_bins_ell) ; SNR_arr = np.zeros((num_k_bins_y,num_k_bins_ell))\n",
    "    kpar_min = .2\n",
    "    kperp_min =.65\n",
    "    delta_kpar = .01\n",
    "    delta_kperp = .01\n",
    "    y_min=kpar_min*r(z)\n",
    "    ell_min=kperp_min*chi(z)\n",
    "    delta_y=delta_kpar*r(z)\n",
    "    delta_ell=delta_kperp*chi(z)\n",
    "    y_arr=np.linspace(y_min,y_min+num_k_bins_y*delta_y,n)\n",
    "    ell_arr=np.linspace(ell_min,ell_min+num_k_bins_ell*delta_ell,n)\n",
    "    for bin_number_y in np.linspace(0,num_k_bins_y-1,num_k_bins_y):\n",
    "        kpar_bin_min, kpar_bin_max = kpar_min + delta_kpar*np.array([bin_number_y, bin_number_y+1])    # bin_number starts at 0\n",
    "        #print (kpar_bin_min*r(z),kpar_bin_max*r(z),'kpar')\n",
    "        for bin_number_ell in np.linspace(0,num_k_bins_ell-1,num_k_bins_ell):\n",
    "            kperp_bin_min, kperp_bin_max = kperp_min + delta_kperp*np.array([bin_number_ell, bin_number_ell+1])\n",
    "            #print (kperp_bin_min*r(z),kperp_bin_max*r(z),'kperp')\n",
    "            kpar_arr[np.int(bin_number_y)] = kpar_bin_min  ; kperp_arr[np.int(bin_number_ell)] = kperp_bin_min\n",
    "            y_bin_arr = y_arr[(y_arr > kpar_bin_min*r(z)) & (y_arr < kpar_bin_max*r(z))]\n",
    "            ell_bin_arr = ell_arr[(ell_arr > kperp_bin_min*chi(z)) & (ell_arr < kperp_bin_max*chi(z))]\n",
    "            ell_bin_2d_arr=np.outer(ell_bin_arr,np.ones(len(y_bin_arr)))\n",
    "            #SN_ratio_2d_arr = SNR(ell_bin_arr,y_bin_arr) #SNR(Ell,Y)\n",
    "            SN_ratio_2d_arr=SNR(ell_bin_arr,z,y_bin_arr,delta_z,ell_bin_2d_arr,Noise)[0]\n",
    "            integrand=SN_ratio_2d_arr**2*ell_bin_2d_arr\n",
    "            int1=sp.integrate.trapz(integrand, ell_bin_arr, axis=0)\n",
    "            SNR_sq = 0.5 * Mode_Volume_Factor/(4.*np.pi**2)*N_patches * sp.integrate.trapz(int1, y_bin_arr, axis=0)\n",
    "            SNR_arr[np.int(bin_number_y),np.int(bin_number_ell)] = np.sqrt(SNR_sq)\n",
    "                # print 'kparmin=', kpar_bin_min, 'kperpmin=', kperp_bin_min, np.sqrt(SNR_sq)\n",
    "    return kperp_arr,kpar_arr,SNR_arr\n"
   ]
  },
  {
   "cell_type": "code",
   "execution_count": 27,
   "metadata": {},
   "outputs": [
    {
     "name": "stdout",
     "output_type": "stream",
     "text": [
      "(<Quantity 0.00632381>, 'fov')\n",
      "(4.5692612968006285, 'sarea')\n",
      "0.89\n"
     ]
    }
   ],
   "source": [
    "S_area=15000\n",
    "SNR=Bispec_SNR\n",
    "kperp_arr_snr,kpar_arr_snr,SNR_arr=SNR_binned(z, delta_z, Noise,SNR,S_area,Dsep=7.)\n",
    "ell_snr=kperp_arr_snr*uf.chi(z)\n",
    "print (kperp_arr_snr.max())"
   ]
  },
  {
   "cell_type": "code",
   "execution_count": 29,
   "metadata": {},
   "outputs": [
    {
     "data": {
      "image/png": "[encoded data removed]",
      "text/plain": [
       "<Figure size 432x288 with 2 Axes>"
      ]
     },
     "metadata": {},
     "output_type": "display_data"
    }
   ],
   "source": [
    "import pylab\n",
    "\n",
    "\n",
    "#print (SNR_arr)\n",
    "#print (np.cumsum(cum_SNR(SNR_arr)))\n",
    "\n",
    "pylab.pcolormesh(kperp_arr_snr,kpar_arr_snr,SNR_arr,vmin=0.001) ;  cbar=plt.colorbar()\n",
    "cbar.ax.tick_params(labelsize=12)\n",
    "plt.tick_params(axis='both', which='major', labelsize=12)\n",
    "pylab.xlim([np.min(kperp_arr_snr)+0.03,np.max(kperp_arr_snr)]) ; pylab.ylim([np.min(kpar_arr_snr)+.015,np.max(kpar_arr_snr)])\n",
    "plt.xlabel(r'$k_\\perp$',fontsize=12); plt.ylabel(r'$k_\\parallel$',fontsize=12); plt.title('Pixel SN for bispectrum', x=1.13, y=1.05)\n",
    "#plt.xscale('log')\n",
    "#plt.yscale('log')\n",
    "plt.savefig('SN_bispec_squeezed_hirax_high_kperp_z_1pt26_delta_z_pt0015.png', dpi=300, bbox_inches='tight')\n",
    "pylab.show()\n"
   ]
  },
  {
   "cell_type": "code",
   "execution_count": null,
   "metadata": {},
   "outputs": [],
   "source": []
  }
 ],
 "metadata": {
  "kernelspec": {
   "display_name": "Python 2",
   "language": "python",
   "name": "python2"
  },
  "language_info": {
   "codemirror_mode": {
    "name": "ipython",
    "version": 2
   },
   "file_extension": ".py",
   "mimetype": "text/x-python",
   "name": "python",
   "nbconvert_exporter": "python",
   "pygments_lexer": "ipython2",
   "version": "2.7.15"
  }
 },
 "nbformat": 4,
 "nbformat_minor": 2
}
