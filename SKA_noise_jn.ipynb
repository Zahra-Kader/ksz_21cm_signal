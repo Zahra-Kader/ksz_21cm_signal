{
 "cells": [
  {
   "cell_type": "code",
   "execution_count": 1,
   "metadata": {},
   "outputs": [],
   "source": [
    "import scipy as sp\n",
    "import numpy as np\n",
    "import matplotlib.pyplot as plt\n",
    "import useful_functions as uf\n",
    "import density as den\n",
    "import constants as cc\n",
    "from scipy.interpolate import interp1d\n",
    "import sys\n",
    "sys.path.insert(0,'/home/zahra/hirax_tools/hirax_tools')\n",
    "from array_config import HIRAXArrayConfig\n",
    "from scipy.integrate import trapz\n",
    "import pylab\n",
    "from matplotlib.colors import LogNorm"
   ]
  },
  {
   "cell_type": "code",
   "execution_count": 2,
   "metadata": {},
   "outputs": [],
   "source": [
    "cosmo=uf.cosmo\n",
    "\n",
    "Mps_interpf=uf.Mps_interpf\n",
    "\n",
    "n_points=40\n",
    "n=n_points\n",
    "z_r=10\n",
    "\n",
    "x_e=1.\n",
    "\n",
    "G=cc.G_const_Mpc_Msun_s/cc.M_sun_g\n",
    "\n",
    "#rho_c=3*H0**2/(8.*np.pi*G)\n",
    "\n",
    "rho_c=den.cosmo_densities(**cosmo)[0]*cc.M_sun_g #in units of g/Mpc^3\n",
    "\n",
    "sigma_T=cc.sigma_T_Mpc\n",
    "\n",
    "tau_r=0.055\n",
    "\n",
    "T_rad=2.725 #In Kelvin\n",
    "#tau_r=0.046*omega_b_0*h*x_e[np.sqrt(omega_M_0(1+z_r)**3+(1-omega_M_0))-1]\n",
    "\n",
    "#get matter power spec data\n",
    "\n",
    "mu_e=1.14\n",
    "\n",
    "m_p=cc.m_p_g #in grams\n",
    "\n",
    "rho_g0=cosmo['omega_b_0']*rho_c\n",
    "\n",
    "#plt.loglog(uf.kabs,Mps_interpf(uf.kabs))\n",
    "\n",
    "#plt.show()\n",
    "zed=uf.zed\n",
    "\n",
    "H=uf.H\n",
    "chi=uf.chi\n",
    "#chi_Z=chi(Z)\n",
    "tau_inst=uf.tau_inst\n",
    "f=uf.f\n",
    "D=uf.D_1\n",
    "r=uf.r\n",
    "z_c=1.26\n",
    "delta_z=0.2\n",
    "\n",
    "kperp_lims=uf.ell_lims(z_c,6.,1024*6.)/uf.chi(z_c)\n",
    "kpar_min_lim=uf.kpar_min(z_c,delta_z)\n",
    "\n",
    "#kpperp_min=kperp_lims[0]\n",
    "#kpperp_max=kperp_lims[1]\n",
    "kpperp_min=5.e-4\n",
    "kpperp_max=20.\n",
    "kppar_min=1.e-3\n",
    "kppar_max=1."
   ]
  },
  {
   "cell_type": "code",
   "execution_count": 3,
   "metadata": {},
   "outputs": [
    {
     "name": "stdout",
     "output_type": "stream",
     "text": [
      "1.7217043803820464\n"
     ]
    }
   ],
   "source": [
    "ell=np.geomspace(2.,1.e4,n_points)\n",
    "kperp_arr=ell/chi(z_c)\n",
    "kpar_arr=np.geomspace(kppar_min,kppar_max,n_points)\n",
    "y=kpar_arr*r(z_c)\n",
    "\n",
    "print (kperp_arr.max())"
   ]
  },
  {
   "cell_type": "code",
   "execution_count": 4,
   "metadata": {},
   "outputs": [],
   "source": [
    "\n",
    "#kpar_min=uf.kpar_min(z,delta_z)\n",
    "\n",
    "def ionized_elec(Yp,N_He):\n",
    "\n",
    "    x=(1-Yp*(1-N_He/4))/(1-Yp/2)\n",
    "\n",
    "    return x\n",
    "\n",
    "\n",
    "x=ionized_elec(0.24,0)\n"
   ]
  },
  {
   "cell_type": "code",
   "execution_count": 5,
   "metadata": {},
   "outputs": [],
   "source": [
    "loaded_fourier_arr=np.load('nu_and_kpar_fourier_dchi2_int_full_redshift_10000pts.npy')\n",
    "\n",
    "nu=loaded_fourier_arr[0,:]\n",
    "f_of_kpar_func=loaded_fourier_arr[1,:]\n",
    "\n",
    "kpar_fourier_dchi2_int=interp1d(nu,f_of_kpar_func)\n",
    "\n",
    "def crosscorr_fourier(ell,z,y, delta_z,kp_perp,kp_par): #with the assumption that zi=z so no cos factor, and we have dz=redshift bin width=2*delta_z defined above\n",
    "    n=n_points #number of points over which to integrate\n",
    "    #y=np.geomspace(1.,3000.,n)\n",
    "    T_mean_zi=uf.T_mean(z)\n",
    "    chi_zi=chi(z)\n",
    "    f_zi=uf.f(z)\n",
    "    D_zi=uf.D_1(z)\n",
    "    r_zi=uf.r(z)\n",
    "    H_zi=uf.H(z)\n",
    "    kpar=y/uf.r(z)\n",
    "    const=1.e6/(4.*np.pi**2)*T_rad*T_mean_zi**2/cc.c_light_Mpc_s*f_zi*D_zi**2*H_zi/(chi_zi**2*r_zi)/(1.+z)*x*(sigma_T*rho_g0/(mu_e*m_p))\n",
    "    #Cl=np.array([])\n",
    "    k_perp=ell/chi_zi\n",
    "    k=np.sqrt(k_perp**2+kpar**2)\n",
    "    rsd=1.+f_zi*kpar**2/k**2\n",
    "    kp=np.sqrt(kp_perp**2+kp_par**2)\n",
    "    cos_theta=kp_par/kp #cos_theta=u, theta is azimuthal angle between k' and z (line of sight) axis\n",
    "    sin_theta=kp_perp/kp\n",
    "    sin_gamma=kpar/k #gamma is measured between k and xy plane, i.e. elevation of k\n",
    "    cos_gamma=k_perp/k\n",
    "    zeta=sin_gamma*cos_theta+cos_gamma*sin_theta\n",
    "    k_dot_kp=k_perp*kp_perp+kpar*kp_par#*zeta\n",
    "    k_perp_dot_kp_perp=k_perp*kp_perp\n",
    "    K=np.sqrt(k**2+kp**2-2*k_dot_kp)\n",
    "    K_perp=np.sqrt(np.abs(k_perp**2+kp_perp**2-2*k_perp_dot_kp_perp))\n",
    "    #theta_K=kpar/K/k**2*(k**2-k_dot_kp)-kp*k_perp*np.sqrt(np.abs(1-zeta**2))/k/K\n",
    "    theta_K=(np.abs(kpar-kp_par))/K\n",
    "    theta_kp=cos_theta\n",
    "    z_integral=np.abs(kpar_fourier_dchi2_int(kpar))\n",
    "    #theta_kp=kpar*zeta/k+k_perp*np.sqrt(np.abs(1-zeta**2))/k\n",
    "    #print (theta_K.min(),theta_K.max())\n",
    "    #theta_K=np.where(theta_K > 0, theta_K, 0)\n",
    "    I=theta_kp*(theta_kp/kp**2+theta_K/K/kp)\n",
    "    #z_integral=sp.integrate.trapz(f_z*D_z**2*(1+z)*np.exp(-tau_z)*np.cos(kpar*cc.c_light_Mpc_s*z/H_z),z)\n",
    "    integrand_1=z_integral*Mps_interpf(kp)*Mps_interpf(K)*rsd**2*theta_kp**2*kp_perp/kp**2\n",
    "  #+theta_K/K/kp)#-mu*kp*np.gradient(Mps_interpf(k),axis=0))\n",
    "    integrand_2=z_integral*Mps_interpf(kp)*Mps_interpf(K)*rsd**2*theta_kp*theta_K*kp_perp/kp/K\n",
    "\n",
    "    #Cl=np.append(Cl,integral)\n",
    "    return const*(integrand_1+integrand_2)\n",
    "\n"
   ]
  },
  {
   "cell_type": "raw",
   "metadata": {},
   "source": [
    "loaded_fourier_arr=np.load('nu_and_kpar_fourier_dchi2_int_full_redshift_10000pts.npy')\n",
    "\n",
    "nu=loaded_fourier_arr[0,:]\n",
    "f_of_kpar_func=loaded_fourier_arr[1,:]\n",
    "\n",
    "kpar_fourier_dchi2_int=interp1d(nu,f_of_kpar_func)\n",
    "print (np.abs(kpar_fourier_dchi2_int(kpar_arr)))"
   ]
  },
  {
   "cell_type": "code",
   "execution_count": 6,
   "metadata": {},
   "outputs": [],
   "source": [
    "def Func_2d_redshift(ell,z_arr,y,Func,delta_z):\n",
    "    Func_mat=np.zeros((len(ell),len(y),len(z_arr)))\n",
    "    for i in range(len(ell)):\n",
    "        for j in range(len(y)):\n",
    "            for z_ind in range(len(z_arr)):\n",
    "                Func_ind=Func(ell[i],z_arr[z_ind],y[j],delta_z)\n",
    "                Func_mat[i][j][z_ind]=Func_ind\n",
    "    return Func_mat\n",
    "\n",
    "\n",
    "def Func_noise_redshift_slow(ell,z_arr,y,Func,delta_z,Noise):\n",
    "    Func_mat=np.zeros((len(ell),len(y),len(z_arr)))\n",
    "    for i in range(len(ell)):\n",
    "        for j in range(len(y)):\n",
    "            for z_ind in range(len(z_arr)):\n",
    "                Func_ind=Func(ell[i],z_arr[z_ind],y[j],delta_z,Noise)\n",
    "                Func_mat[i][j][z_ind]=Func_ind       \n",
    "    return Func_mat\n",
    "\n",
    "def Func_noise_redshift_fast(ell,z_arr,y,Func,delta_z,Noise):\n",
    "    Func_mat=[Func(ell[i],z_arr[z_ind],y[j],delta_z,Noise) \n",
    "        for i in range(len(ell))\n",
    "        for j in range(len(y))\n",
    "        for z_ind in range(len(z_arr))]\n",
    "    return Func_mat\n",
    "\n",
    "\n",
    "def Func_2d(ell,z_c,y,Func,delta_z):\n",
    "    Func_mat=np.zeros((len(ell),len(y)))\n",
    "    for i in range(len(ell)):\n",
    "        for j in range(len(y)):\n",
    "            Func_ind=Func(ell[i],z_c,y[j],delta_z)\n",
    "            Func_mat[i][j]=Func_ind\n",
    "    return Func_mat\n",
    "\n",
    "\n",
    "def Func_noise(ell,z_c,y,Func,delta_z,Noise):\n",
    "    Func_mat=np.zeros((len(ell),len(y)))\n",
    "    for i in range(len(ell)):\n",
    "        for j in range(len(y)):\n",
    "            Func_ind=Func(ell[i],z_c,y[j],delta_z,Noise)\n",
    "            Func_mat[i][j]=Func_ind\n",
    "    return Func_mat\n",
    "\n",
    "\n",
    "def Signal_integrated_fourier(ell,z,y,delta_z):\n",
    "    Kp_perp=np.geomspace(kpperp_min,kpperp_max,n)\n",
    "    Kp_par=np.geomspace(kppar_min,kppar_max,n)\n",
    "    kp_perp,kp_par=np.meshgrid(Kp_perp,Kp_par)\n",
    "    B=crosscorr_fourier(ell,z,y, delta_z,kp_perp,kp_par)\n",
    "    integral=trapz(trapz(B,Kp_perp,axis=0),Kp_par,axis=0)\n",
    "    integral_sqrt=np.sqrt(np.abs(integral))\n",
    "    return integral\n"
   ]
  },
  {
   "cell_type": "code",
   "execution_count": 7,
   "metadata": {},
   "outputs": [],
   "source": [
    "Cl_ksz=np.load('C_l_ksz_z_1_full_100pts_2d_2_1e5.npy')\n",
    "ell_loaded=Cl_ksz[0,:]\n",
    "Cl_ksz_full_arr=Cl_ksz[1,:]\n",
    "OV_interp=interp1d(ell_loaded,Cl_ksz_full_arr)"
   ]
  },
  {
   "cell_type": "code",
   "execution_count": 8,
   "metadata": {},
   "outputs": [],
   "source": [
    "\n",
    "ell_large=np.geomspace(2.,1.e5,50000)\n",
    "#np.save('cmb_spec_2_1e5_50000pts',(ell_large,cmb_spec(ell_large)))\n",
    "#np.save('cmb_noise_2_1e5_50000pts',(ell_large,cmb_noise(ell_large)))\n",
    "cmb_spec=np.load('cmb_spec_2_1e5_50000pts.npy')\n",
    "cmb_noise=np.load('cmb_noise_2_1e5_50000pts.npy')\n",
    "ell_cmb=cmb_spec[0,:]\n",
    "cmb_spec_loaded=cmb_spec[1,:]\n",
    "cmb_noise_loaded=cmb_noise[1,:]\n",
    "\n",
    "cmb_spec_interp=interp1d(ell_cmb,cmb_spec_loaded)\n",
    "cmb_noise_interp=interp1d(ell_cmb,cmb_noise_loaded)"
   ]
  },
  {
   "cell_type": "code",
   "execution_count": 9,
   "metadata": {},
   "outputs": [],
   "source": [
    "file_dish_z_2pt86=np.genfromtxt('/home/zahra/Downloads/SKA1mid_single_dish/SKA1Mid_single_dish_noise_zc_2_86.dat',dtype=float,unpack=True)\n",
    "file_interferom_z_2pt86=np.genfromtxt('/home/zahra/Downloads/SKAmid1_interferometer_Noise/SKA1Mid_interferometer_noise_zc_2_86.dat',dtype=float,unpack=True)\n",
    "\n",
    "\n",
    "file_dish_z_2pt76=np.genfromtxt('/home/zahra/Downloads/SKA1mid_single_dish/SKA1Mid_single_dish_noise_zc_2_76.dat',dtype=float,unpack=True)\n",
    "file_interferom_z_2pt76=np.genfromtxt('/home/zahra/Downloads/SKAmid1_interferometer_Noise/SKA1Mid_interferometer_noise_zc_2_76.dat',dtype=float,unpack=True)\n",
    "\n",
    "\n",
    "file_dish_z_2pt66=np.genfromtxt('/home/zahra/Downloads/SKA1mid_single_dish/SKA1Mid_single_dish_noise_zc_2_66.dat',dtype=float,unpack=True)\n",
    "file_interferom_z_2pt66=np.genfromtxt('/home/zahra/Downloads/SKAmid1_interferometer_Noise/SKA1Mid_interferometer_noise_zc_2_66.dat',dtype=float,unpack=True)\n",
    "\n",
    "\n",
    "file_dish_z_2pt56=np.genfromtxt('/home/zahra/Downloads/SKA1mid_single_dish/SKA1Mid_single_dish_noise_zc_2_56.dat',dtype=float,unpack=True)\n",
    "file_interferom_z_2pt56=np.genfromtxt('/home/zahra/Downloads/SKAmid1_interferometer_Noise/SKA1Mid_interferometer_noise_zc_2_56.dat',dtype=float,unpack=True)\n",
    "\n",
    "\n",
    "file_dish_z_2pt46=np.genfromtxt('/home/zahra/Downloads/SKA1mid_single_dish/SKA1Mid_single_dish_noise_zc_2_46.dat',dtype=float,unpack=True)\n",
    "file_interferom_z_2pt46=np.genfromtxt('/home/zahra/Downloads/SKAmid1_interferometer_Noise/SKA1Mid_interferometer_noise_zc_2_46.dat',dtype=float,unpack=True)\n",
    "\n",
    "\n",
    "file_dish_z_2pt36=np.genfromtxt('/home/zahra/Downloads/SKA1mid_single_dish/SKA1Mid_single_dish_noise_zc_2_36.dat',dtype=float,unpack=True)\n",
    "file_interferom_z_2pt36=np.genfromtxt('/home/zahra/Downloads/SKAmid1_interferometer_Noise/SKA1Mid_interferometer_noise_zc_2_36.dat',dtype=float,unpack=True)\n",
    "\n",
    "\n",
    "file_dish_z_2pt26=np.genfromtxt('/home/zahra/Downloads/SKA1mid_single_dish/SKA1Mid_single_dish_noise_zc_2_26.dat',dtype=float,unpack=True)\n",
    "file_interferom_z_2pt26=np.genfromtxt('/home/zahra/Downloads/SKAmid1_interferometer_Noise/SKA1Mid_interferometer_noise_zc_2_26.dat',dtype=float,unpack=True)\n",
    "\n",
    "\n",
    "file_dish_z_2pt16=np.genfromtxt('/home/zahra/Downloads/SKA1mid_single_dish/SKA1Mid_single_dish_noise_zc_2_16.dat',dtype=float,unpack=True)\n",
    "file_interferom_z_2pt16=np.genfromtxt('/home/zahra/Downloads/SKAmid1_interferometer_Noise/SKA1Mid_interferometer_noise_zc_2_16.dat',dtype=float,unpack=True)\n",
    "\n",
    "\n",
    "file_dish_z_2pt06=np.genfromtxt('/home/zahra/Downloads/SKA1mid_single_dish/SKA1Mid_single_dish_noise_zc_2_06.dat',dtype=float,unpack=True)\n",
    "file_interferom_z_2pt06=np.genfromtxt('/home/zahra/Downloads/SKAmid1_interferometer_Noise/SKA1Mid_interferometer_noise_zc_2_06.dat',dtype=float,unpack=True)\n",
    "\n",
    "\n",
    "file_dish_z_1pt96=np.genfromtxt('/home/zahra/Downloads/SKA1mid_single_dish/SKA1Mid_single_dish_noise_zc_1_96.dat',dtype=float,unpack=True)\n",
    "file_interferom_z_1pt96=np.genfromtxt('/home/zahra/Downloads/SKAmid1_interferometer_Noise/SKA1Mid_interferometer_noise_zc_1_96.dat',dtype=float,unpack=True)\n",
    "\n",
    "\n",
    "file_dish_z_1pt86=np.genfromtxt('/home/zahra/Downloads/SKA1mid_single_dish/SKA1Mid_single_dish_noise_zc_1_86.dat',dtype=float,unpack=True)\n",
    "file_interferom_z_1pt86=np.genfromtxt('/home/zahra/Downloads/SKAmid1_interferometer_Noise/SKA1Mid_interferometer_noise_zc_1_86.dat',dtype=float,unpack=True)\n",
    "\n",
    "\n",
    "file_dish_z_1pt76=np.genfromtxt('/home/zahra/Downloads/SKA1mid_single_dish/SKA1Mid_single_dish_noise_zc_1_76.dat',dtype=float,unpack=True)\n",
    "file_interferom_z_1pt76=np.genfromtxt('/home/zahra/Downloads/SKAmid1_interferometer_Noise/SKA1Mid_interferometer_noise_zc_1_76.dat',dtype=float,unpack=True)\n",
    "\n",
    "\n",
    "file_dish_z_1pt66=np.genfromtxt('/home/zahra/Downloads/SKA1mid_single_dish/SKA1Mid_single_dish_noise_zc_1_66.dat',dtype=float,unpack=True)\n",
    "file_interferom_z_1pt66=np.genfromtxt('/home/zahra/Downloads/SKAmid1_interferometer_Noise/SKA1Mid_interferometer_noise_zc_1_66.dat',dtype=float,unpack=True)\n",
    "\n",
    "\n",
    "file_dish_z_1pt56=np.genfromtxt('/home/zahra/Downloads/SKA1mid_single_dish/SKA1Mid_single_dish_noise_zc_1_56.dat',dtype=float,unpack=True)\n",
    "file_interferom_z_1pt56=np.genfromtxt('/home/zahra/Downloads/SKAmid1_interferometer_Noise/SKA1Mid_interferometer_noise_zc_1_56.dat',dtype=float,unpack=True)\n",
    "\n",
    "file_dish_z_1pt46=np.genfromtxt('/home/zahra/Downloads/SKA1mid_single_dish/SKA1Mid_single_dish_noise_zc_1_46.dat',dtype=float,unpack=True)\n",
    "file_interferom_z_1pt46=np.genfromtxt('/home/zahra/Downloads/SKAmid1_interferometer_Noise/SKA1Mid_interferometer_noise_zc_1_46.dat',dtype=float,unpack=True)\n",
    "\n",
    "file_dish_z_1pt36=np.genfromtxt('/home/zahra/Downloads/SKA1mid_single_dish/SKA1Mid_single_dish_noise_zc_1_36.dat',dtype=float,unpack=True)\n",
    "file_interferom_z_1pt36=np.genfromtxt('/home/zahra/Downloads/SKAmid1_interferometer_Noise/SKA1Mid_interferometer_noise_zc_1_36.dat',dtype=float,unpack=True)\n",
    "\n",
    "file_dish_z_1pt26=np.genfromtxt('/home/zahra/Downloads/SKA1mid_single_dish/SKA1Mid_single_dish_noise_zc_1_26.dat',dtype=float,unpack=True)\n",
    "file_interferom_z_1pt26=np.genfromtxt('/home/zahra/Downloads/SKAmid1_interferometer_Noise/SKA1Mid_interferometer_noise_zc_1_26.dat',dtype=float,unpack=True)\n",
    "\n",
    "file_dish_z_1pt16=np.genfromtxt('/home/zahra/Downloads/SKA1mid_single_dish/SKA1Mid_single_dish_noise_zc_1_16.dat', dtype=float,unpack=True)\n",
    "file_interferom_z_1pt16=np.genfromtxt('/home/zahra/Downloads/SKAmid1_interferometer_Noise/SKA1Mid_interferometer_noise_zc_1_16.dat', dtype=float,unpack=True)\n",
    "\n",
    "file_dish_z_1pt06=np.genfromtxt('/home/zahra/Downloads/SKA1mid_single_dish/SKA1Mid_single_dish_noise_zc_1_06.dat', dtype=float,unpack=True)\n",
    "file_interferom_z_1pt06=np.genfromtxt('/home/zahra/Downloads/SKAmid1_interferometer_Noise/SKA1Mid_interferometer_noise_zc_1_06.dat', dtype=float,unpack=True)\n",
    "\n",
    "\n",
    "file_dish_z_pt96=np.genfromtxt('/home/zahra/Downloads/SKA1mid_single_dish/SKA1Mid_single_dish_noise_zc_0_96.dat', dtype=float, unpack=True)\n",
    "file_interferom_z_pt96=np.genfromtxt('/home/zahra/Downloads/SKAmid1_interferometer_Noise/SKA1Mid_interferometer_noise_zc_0_96.dat', dtype=float,unpack=True)\n",
    "\n",
    "file_dish_z_pt86=np.genfromtxt('/home/zahra/Downloads/SKA1mid_single_dish/SKA1Mid_single_dish_noise_zc_0_86.dat', dtype=float, unpack=True)\n",
    "file_interferom_z_pt86=np.genfromtxt('/home/zahra/Downloads/SKAmid1_interferometer_Noise/SKA1Mid_interferometer_noise_zc_0_86.dat', dtype=float,unpack=True)\n",
    "\n",
    "file_dish_z_pt76=np.genfromtxt('/home/zahra/Downloads/SKA1mid_single_dish/SKA1Mid_single_dish_noise_zc_0_76.dat', dtype=float, unpack=True)\n",
    "file_interferom_z_pt76=np.genfromtxt('/home/zahra/Downloads/SKAmid1_interferometer_Noise/SKA1Mid_interferometer_noise_zc_0_76.dat', dtype=float,unpack=True)\n",
    "\n",
    "file_dish_z_pt66=np.genfromtxt('/home/zahra/Downloads/SKA1mid_single_dish/SKA1Mid_single_dish_noise_zc_0_66.dat', dtype=float, unpack=True)\n",
    "file_interferom_z_pt66=np.genfromtxt('/home/zahra/Downloads/SKAmid1_interferometer_Noise/SKA1Mid_interferometer_noise_zc_0_66.dat', dtype=float,unpack=True)\n",
    "\n",
    "file_dish_z_pt56=np.genfromtxt('/home/zahra/Downloads/SKA1mid_single_dish/SKA1Mid_single_dish_noise_zc_0_56.dat', dtype=float, unpack=True)\n",
    "file_interferom_z_pt56=np.genfromtxt('/home/zahra/Downloads/SKAmid1_interferometer_Noise/SKA1Mid_interferometer_noise_zc_0_56.dat', dtype=float,unpack=True)\n",
    "\n",
    "file_dish_z_pt46=np.genfromtxt('/home/zahra/Downloads/SKA1mid_single_dish/SKA1Mid_single_dish_noise_zc_0_46.dat', dtype=float, unpack=True)\n",
    "file_interferom_z_pt46=np.genfromtxt('/home/zahra/Downloads/SKAmid1_interferometer_Noise/SKA1Mid_interferometer_noise_zc_0_46.dat', dtype=float,unpack=True)\n",
    "\n",
    "file_dish_z_pt36=np.genfromtxt('/home/zahra/Downloads/SKA1mid_single_dish/SKA1Mid_single_dish_noise_zc_0_36.dat', dtype=float, unpack=True)\n",
    "file_interferom_z_pt36=np.genfromtxt('/home/zahra/Downloads/SKAmid1_interferometer_Noise/SKA1Mid_interferometer_noise_zc_0_36.dat', dtype=float,unpack=True)"
   ]
  },
  {
   "cell_type": "code",
   "execution_count": 10,
   "metadata": {},
   "outputs": [],
   "source": [
    "def SKA_dish_interferom(ell, file_dish, file_interferom):\n",
    "    dish_file_loaded=file_dish\n",
    "    ell_dish=dish_file_loaded[:,0]\n",
    "    SKA_dish=dish_file_loaded[:,1]\n",
    "    SKA_noise_dish_interp=interp1d(ell_dish, SKA_dish)\n",
    "    \n",
    "    interferom_file_loaded=file_interferom\n",
    "    ell_interferom=interferom_file_loaded[:,0]\n",
    "    SKA_interferom=interferom_file_loaded[:,1]\n",
    "    SKA_noise_interferom_interp=interp1d(ell_interferom, SKA_interferom)\n",
    "    \n",
    "    SKA_noise_total_interp=interp1d(ell_interferom,1./(1./(1.e6*SKA_noise_dish_interp(ell_interferom))+1./(1.e6*SKA_noise_interferom_interp(ell_interferom))))\n",
    "    \n",
    "    return 1.e6*SKA_noise_dish_interp(ell), 1.e6*SKA_noise_interferom_interp(ell), SKA_noise_total_interp(ell)"
   ]
  },
  {
   "cell_type": "code",
   "execution_count": 11,
   "metadata": {},
   "outputs": [],
   "source": [
    "SKA_func_z_2pt86=SKA_dish_interferom(ell, file_dish_z_2pt86, file_interferom_z_2pt86)\n",
    "SKA_func_z_2pt76=SKA_dish_interferom(ell, file_dish_z_2pt76, file_interferom_z_2pt76)\n",
    "SKA_func_z_2pt66=SKA_dish_interferom(ell, file_dish_z_2pt66, file_interferom_z_2pt66)\n",
    "SKA_func_z_2pt56=SKA_dish_interferom(ell, file_dish_z_2pt56, file_interferom_z_2pt56)\n",
    "SKA_func_z_2pt46=SKA_dish_interferom(ell, file_dish_z_2pt46, file_interferom_z_2pt46)\n",
    "SKA_func_z_2pt36=SKA_dish_interferom(ell, file_dish_z_2pt36, file_interferom_z_2pt36)\n",
    "SKA_func_z_2pt26=SKA_dish_interferom(ell, file_dish_z_2pt26, file_interferom_z_2pt26)\n",
    "SKA_func_z_2pt16=SKA_dish_interferom(ell, file_dish_z_2pt16, file_interferom_z_2pt16)\n",
    "SKA_func_z_2pt06=SKA_dish_interferom(ell, file_dish_z_2pt06, file_interferom_z_2pt06)\n",
    "SKA_func_z_1pt96=SKA_dish_interferom(ell, file_dish_z_1pt96, file_interferom_z_1pt96)\n",
    "SKA_func_z_1pt86=SKA_dish_interferom(ell, file_dish_z_1pt86, file_interferom_z_1pt86)\n",
    "SKA_func_z_1pt76=SKA_dish_interferom(ell, file_dish_z_1pt76, file_interferom_z_1pt76)\n",
    "SKA_func_z_1pt66=SKA_dish_interferom(ell, file_dish_z_1pt66, file_interferom_z_1pt66)\n",
    "SKA_func_z_1pt56=SKA_dish_interferom(ell, file_dish_z_1pt56, file_interferom_z_1pt56)\n",
    "SKA_func_z_1pt46=SKA_dish_interferom(ell, file_dish_z_1pt46, file_interferom_z_1pt46)\n",
    "SKA_func_z_1pt36=SKA_dish_interferom(ell, file_dish_z_1pt36, file_interferom_z_1pt36)\n",
    "SKA_func_z_1pt26=SKA_dish_interferom(ell, file_dish_z_1pt26, file_interferom_z_1pt26)\n",
    "SKA_func_z_1pt16=SKA_dish_interferom(ell, file_dish_z_1pt16, file_interferom_z_1pt16)\n",
    "SKA_func_z_1pt06=SKA_dish_interferom(ell, file_dish_z_1pt06, file_interferom_z_1pt06)\n",
    "SKA_func_z_pt96=SKA_dish_interferom(ell, file_dish_z_pt96, file_interferom_z_pt96)\n",
    "SKA_func_z_pt86=SKA_dish_interferom(ell, file_dish_z_pt86, file_interferom_z_pt86)\n",
    "SKA_func_z_pt76=SKA_dish_interferom(ell, file_dish_z_pt76, file_interferom_z_pt76)\n",
    "SKA_func_z_pt66=SKA_dish_interferom(ell, file_dish_z_pt66, file_interferom_z_pt66)\n",
    "SKA_func_z_pt56=SKA_dish_interferom(ell, file_dish_z_pt56, file_interferom_z_pt56)\n",
    "SKA_func_z_pt46=SKA_dish_interferom(ell, file_dish_z_pt46, file_interferom_z_pt46)\n",
    "SKA_func_z_pt36=SKA_dish_interferom(ell, file_dish_z_pt36, file_interferom_z_pt36)\n"
   ]
  },
  {
   "cell_type": "code",
   "execution_count": 25,
   "metadata": {},
   "outputs": [],
   "source": [
    "#SKA_dish_tot=1./(1./SKA_func_z_1pt46[0]+1./SKA_func_z_1pt36[0]+1./SKA_func_z_1pt26[0]+1./SKA_func_z_1pt16[0]+1./SKA_func_z_pt86[0])\n",
    "#SKA_dish_tot=1./(1./SKA_func_z_1pt46[0]+1./SKA_func_z_1pt36[0]+1./SKA_func_z_1pt26[0]+1./SKA_func_z_1pt16[0]+1./SKA_func_z_1pt06[0]+1./SKA_func_z_pt86[0]+1./SKA_func_z_pt76[0])\n",
    "SKA_dish_tot=1./(1./SKA_func_z_1pt16[0]+1./SKA_func_z_1pt06[0]+1./SKA_func_z_pt96[0]+1./SKA_func_z_pt86[0])\n",
    "SKA_interferom_tot=1./(1./SKA_func_z_1pt16[1]+1./SKA_func_z_1pt06[1]+1./SKA_func_z_pt96[1]+1./SKA_func_z_pt86[1])\n",
    "SKA_total_tot=1./(1./SKA_func_z_1pt16[2]+1./SKA_func_z_1pt06[2]+1./SKA_func_z_pt96[2]+1./SKA_func_z_pt86[2])\n",
    "#SKA_total_tot=SKA_func_z_1pt16[2]+SKA_func_z_1pt06[2]+SKA_func_z_pt96[2]+SKA_func_z_pt86[2]\n",
    "#SKA_total=1./(1./SKA_dish_tot+1./SKA_interferom_tot)"
   ]
  },
  {
   "cell_type": "code",
   "execution_count": 27,
   "metadata": {},
   "outputs": [
    {
     "data": {
      "text/plain": [
       "[<matplotlib.lines.Line2D at 0x7f89d5e8d690>]"
      ]
     },
     "execution_count": 27,
     "metadata": {},
     "output_type": "execute_result"
    },
    {
     "data": {
      "image/png": "[encoded data removed]",
      "text/plain": [
       "<Figure size 432x288 with 1 Axes>"
      ]
     },
     "metadata": {},
     "output_type": "display_data"
    }
   ],
   "source": [
    "#plt.loglog(ell,SKA_dish_tot)\n",
    "#plt.loglog(ell,SKA_interferom_tot)\n",
    "plt.loglog(kperp_arr,SKA_total_tot)"
   ]
  },
  {
   "cell_type": "code",
   "execution_count": 20,
   "metadata": {},
   "outputs": [
    {
     "data": {
      "text/plain": [
       "[<matplotlib.lines.Line2D at 0x7f89d64b77d0>]"
      ]
     },
     "execution_count": 20,
     "metadata": {},
     "output_type": "execute_result"
    },
    {
     "data": {
      "image/png": "[encoded data removed]",
      "text/plain": [
       "<Figure size 432x288 with 1 Axes>"
      ]
     },
     "metadata": {},
     "output_type": "display_data"
    }
   ],
   "source": [
    "plt.loglog(ell,SKA_func_z_1pt26[2],'r')\n",
    "#plt.loglog(ell,SKA_func_z_1pt26[0])\n",
    "#plt.loglog(ell,SKA_func_z_1pt26[1])\n",
    "#plt.ylim(1.e-3,1.e3)"
   ]
  },
  {
   "cell_type": "code",
   "execution_count": null,
   "metadata": {},
   "outputs": [],
   "source": [
    "plt.loglog(ell,SKA_func_z_pt86[2])\n",
    "plt.loglog(ell,SKA_func_z_pt86[0])\n",
    "plt.loglog(ell,SKA_func_z_pt86[1])\n",
    "plt.ylim(1.e-3,1.e3)"
   ]
  },
  {
   "cell_type": "code",
   "execution_count": null,
   "metadata": {},
   "outputs": [],
   "source": [
    "plt.loglog(ell,SKA_func_z_1pt16[2])\n",
    "plt.loglog(ell,SKA_func_z_1pt16[0])\n",
    "plt.loglog(ell,SKA_func_z_1pt16[1])\n",
    "plt.ylim(1.e-3,1.e3)"
   ]
  },
  {
   "cell_type": "code",
   "execution_count": null,
   "metadata": {},
   "outputs": [],
   "source": [
    "plt.loglog(ell,1./(1./SKA_func_z_1pt26[0]+1./SKA_func_z_1pt16[0]+1./SKA_func_z_pt86[0]),'r')\n",
    "#plt.loglog(ell,SKA_func_z_1pt26[0]+SKA_func_z_1pt16[0],'k')\n",
    "plt.loglog(ell,SKA_func_z_1pt16[0],'g')\n",
    "plt.loglog(ell,SKA_func_z_1pt26[0],'b')\n",
    "plt.loglog(ell,SKA_func_z_pt86[0],'k')\n",
    "plt.ylim(1.e-5,1e5)\n",
    "#plt.xlim(10,1000)"
   ]
  },
  {
   "cell_type": "code",
   "execution_count": null,
   "metadata": {},
   "outputs": [],
   "source": [
    "print ell_dish_z_1pt16.min(), ell_dish_z_1pt16.max()\n",
    "print ell_dish_z_1pt26.min(), ell_dish_z_1pt26.max()"
   ]
  },
  {
   "cell_type": "code",
   "execution_count": null,
   "metadata": {},
   "outputs": [],
   "source": [
    "plt.loglog(ell,Noise(ell))"
   ]
  }
 ],
 "metadata": {
  "kernelspec": {
   "display_name": "Python 2",
   "language": "python",
   "name": "python2"
  },
  "language_info": {
   "codemirror_mode": {
    "name": "ipython",
    "version": 2
   },
   "file_extension": ".py",
   "mimetype": "text/x-python",
   "name": "python",
   "nbconvert_exporter": "python",
   "pygments_lexer": "ipython2",
   "version": "2.7.15"
  }
 },
 "nbformat": 4,
 "nbformat_minor": 2
}
